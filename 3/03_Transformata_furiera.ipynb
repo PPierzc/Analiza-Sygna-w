{
 "cells": [
  {
   "cell_type": "markdown",
   "metadata": {
    "deletable": true,
    "editable": true
   },
   "source": [
    "## Importy bibliotek"
   ]
  },
  {
   "cell_type": "code",
   "execution_count": 2,
   "metadata": {
    "collapsed": true,
    "deletable": true,
    "editable": true
   },
   "outputs": [],
   "source": [
    "import numpy as np\n",
    "import matplotlib.pyplot as plt\n",
    "%matplotlib inline"
   ]
  },
  {
   "cell_type": "markdown",
   "metadata": {
    "deletable": true,
    "editable": true
   },
   "source": [
    "# Transformata Fouriera\n",
    "##  Analiza Fouriera jako rzutowanie wektorów\n",
    "W tym zadaniu chciałbym abyśmy wyrobili sobie intuicję, że analiza Fouriera moze być rozumiana jako badanie sygnału (niech nazywa się syg) za pomocą pewnych znanych funkcji (będą to funkcje sin i cos). Jak już mówiliśmy o sygnałach można myśleć, że są to wektory. Jeśli chcemy zbadać, czy dwa wektory są podobne do siebie to liczymy ich iloczyn skalarny. Zobaczmy jak to działa w poniższym zadaniu:"
   ]
  },
  {
   "cell_type": "code",
   "execution_count": 4,
   "metadata": {
    "collapsed": false,
    "deletable": true,
    "editable": true
   },
   "outputs": [
    {
     "name": "stdout",
     "output_type": "stream",
     "text": [
      "częstość\tsin\tcos\n",
      "1\t-0.000\t0.014\n",
      "2\t0.000\t0.014\n",
      "3\t0.704\t0.014\n",
      "4\t0.000\t0.014\n",
      "5\t-0.000\t0.014\n",
      "6\t-0.000\t0.014\n",
      "7\t-0.000\t0.711\n",
      "8\t0.000\t0.014\n",
      "9\t-0.000\t0.014\n",
      "10\t0.000\t0.014\n"
     ]
    }
   ],
   "source": [
    "\n",
    "T = 1 # ustawiamy długość czasu\n",
    "Fs = 100 # ustawiamy częstość próbkowania\n",
    "t = np.linspace(0,T,Fs) #wytwarzamy wektor czasu\n",
    "\n",
    "syg = np.sin(3*t*2*np.pi) + np.cos(7*t*2*np.pi) # wytwarzamy sygnał będący sumą sinusa o cz. 3Hz i \n",
    "         # cos o częstości 7Hz\n",
    "syg = syg/np.linalg.norm(syg) # normalizujemy badany sygnał\n",
    "\n",
    "print(\"częstość\\tsin\\tcos\" ) # szykujemy nagłówek wydruku\n",
    "for n in range(1,11):# dla liczb n z zakresu 1 do 10\n",
    "    test_sin = np.sin(n*t*2*np.pi)#tworzymy sygnał testowy sinus o częstości n Hz\n",
    "    test_sin = test_sin/np.linalg.norm(test_sin)#normalizujemy ten sygnał testowy\n",
    "    test_cos = np.cos(n*t*2*np.pi)# tworzymy testowego cosinusa o częstości n Hz\n",
    "    test_cos = test_cos/np.linalg.norm(test_cos)# normalizujemy \n",
    "    \n",
    "    rzut_s = np.dot(syg, test_sin)#obliczamy iloczyn skalarny sygnału z testowym sinusem\n",
    "    rzut_p = np.dot(syg, test_cos)#obliczamy iloczyn skalarny z testowym cosinusem\n",
    "    print(\"%d\\t%.3f\\t%.3f\" %(n,rzut_s, rzut_p)) # wypisujemy wyniki"
   ]
  },
  {
   "cell_type": "markdown",
   "metadata": {
    "deletable": true,
    "editable": true
   },
   "source": [
    "<hr>"
   ]
  },
  {
   "cell_type": "markdown",
   "metadata": {
    "deletable": true,
    "editable": true
   },
   "source": [
    "## Zespolone eksponensy\n",
    "> Ciągłą funkcję  okresową (sygnał okresowy) można przedstawić w postaci  [Szereg_Fouriera](https://brain.fuw.edu.pl/edu/index.php/Szereg_Fouriera) &mdash; czyli sumy zespolonych funkcji exponencjalnych. Współczynniki w szeregu Fouriera to liczby, w ogólności zespolone, które mówią z jaką amplitudą i z jaką fazą wchodzi do sumy odpowiadająca mu funkcja. Współczynniki te numerowane są od $-\\infty$ do $\\infty$. Dla sygnałów rzeczywistych współczynniki występują w sprzężonych parach co powoduje, że zgodnie ze wzorami Eulera:\n",
    "\n",
    "<center>\n",
    "$e^{ix}=\\cos x + i\\sin x \\quad \\Rightarrow \\begin{cases}\\cos x = \\frac12(e^{ix}+e^{-ix})\\\\ \\sin x = \\frac{1}{2i}(e^{ix}-e^{-ix}) \\end{cases}$\n",
    "</center>\n",
    "\n",
    ">szereg można zwinąć do szeregu funkcji sinusoidalnych."
   ]
  },
  {
   "cell_type": "markdown",
   "metadata": {
    "deletable": true,
    "editable": true
   },
   "source": [
    "## Zadanie: wykreślanie funkcji trygonometrycznej zapisanej jako zespolone eksponensy \n",
    "Dla przypomnienia:\n",
    "* uzyskanie liczby zespolonej $i$ w pythonie mamy jako <tt> 1j</tt>.\n",
    "* jeśli prowadzimy obliczenia na liczbach zespolonych to w wyniku dostajemy liczby zespolone (nawet jeśli ich część urojona jest 0). Aby rzutować wynik na liczby rzeczywiste musimy wykonać funkcję <tt>np.real(.)</tt>\n",
    "\n",
    "Proszę narysować wykres funkcji \n",
    "\n",
    "$f(t) = c \\left(e^{i2 \\pi \\frac{  n  }{T}t } + e^{-i 2 \\pi \\frac{ n }{T} t  }\\right)$ dla $t \\in (-\\pi,\\, \\pi); \\quad T = 2 \\pi$. \n",
    "\n",
    "Odstęp między próbkami proszę ustawić na 0.001.  \n",
    "\n",
    "* Obejrzeć wykresy dla $n \\in \\{0, 1, 2, 5\\}$. \n",
    "* Jaki sens ma liczba $n$? \n",
    "* Jaki sens ma liczba $c$?"
   ]
  },
  {
   "cell_type": "code",
   "execution_count": 18,
   "metadata": {
    "collapsed": false,
    "deletable": true,
    "editable": true
   },
   "outputs": [
    {
     "name": "stderr",
     "output_type": "stream",
     "text": [
      "/home/pawel/.local/lib/python3.5/site-packages/numpy/core/numeric.py:531: ComplexWarning: Casting complex values to real discards the imaginary part\n",
      "  return array(a, dtype, copy=False, order=order)\n"
     ]
    },
    {
     "data": {
      "image/png": "[encoded data removed]",
      "text/plain": [
       "<matplotlib.figure.Figure at 0x7f5e9c40fda0>"
      ]
     },
     "metadata": {},
     "output_type": "display_data"
    },
    {
     "data": {
      "image/png": "[encoded data removed]",
      "text/plain": [
       "<matplotlib.figure.Figure at 0x7f5e9c3cf4e0>"
      ]
     },
     "metadata": {},
     "output_type": "display_data"
    },
    {
     "data": {
      "image/png": "[encoded data removed]",
      "text/plain": [
       "<matplotlib.figure.Figure at 0x7f5e9c29b9e8>"
      ]
     },
     "metadata": {},
     "output_type": "display_data"
    },
    {
     "data": {
      "image/png": "[encoded data removed]",
      "text/plain": [
       "<matplotlib.figure.Figure at 0x7f5e9c30c668>"
      ]
     },
     "metadata": {},
     "output_type": "display_data"
    }
   ],
   "source": [
    "def f(t, c, n):\n",
    "    return c * (np.exp(1J*2*np.pi*(n/2/np.pi)*t) + np.exp(-1J*2*np.pi*(n/2/np.pi)*t))\n",
    "\n",
    "n = [0,1,2,5]\n",
    "t = np.arange(0,2*np.pi, 0.001)\n",
    "\n",
    "for index, i in enumerate(n):\n",
    "    plt.subplot(len(n), 1, index+1)\n",
    "    plt.plot(t, f(t, 1, i))\n",
    "    plt.show()"
   ]
  },
  {
   "cell_type": "markdown",
   "metadata": {
    "deletable": true,
    "editable": true
   },
   "source": [
    "## Odpowiedź\n",
    "* Liczba n odpowiada za zmianę częstotliwości sygnału\n",
    "* Liczba c zmienia amplitudę sygnału"
   ]
  },
  {
   "cell_type": "markdown",
   "metadata": {
    "deletable": true,
    "editable": true
   },
   "source": [
    "<hr>\n",
    "\n",
    "## Zadanie: Rekonstrukcja sygnału ze współczynników Fouriera\n",
    "Funkcja  o okresie 2, w podstawowym okresie dana jest ona wzorem:\n",
    "\n",
    "$ f(t)=|t| $ dla $|t|<1$,\n",
    "\n",
    "Za pomocą wykresu coraz to większej liczby składników jej szeregu Fouriera sprawdź jego  zbieżność.\n",
    "\n",
    "> ### Obliczenia analityczne\n",
    ">\n",
    "> Musimy obliczyć następującą całkę:\n",
    "> \n",
    "> $ c_n = \\frac{1}{2} \\int_{-1}^1 {|t| e^{\\frac{2 \\pi j n t }{2}} dt} = \n",
    "\\frac{1}{2} \\left[ \\int_{-1}^0{ -t e^{\\pi j n t }dt} + \\int_{0}^1 {t e^{\\pi j n t }dt} \\right]$\n",
    ">\n",
    "> Przypomnijmy sobie, że:\n",
    "> \n",
    "> $\\int x e^{ax}dx = \\frac{1}{a^2} e^{ax} (ax-1) $\n",
    "> \n",
    "> Zatem nasze $c_n$:\n",
    "> \n",
    "> $c_n = \\frac{1}{\\pi^2 n^2} \n",
    " \\left[ \n",
    "- \\left[ e^{\\pi j n t} \\frac{\\pi j n t -1}{(\\pi j n)^2} \\right]_{-1}^0 \n",
    "+\n",
    "   \\left[ e^{\\pi j n t} \\frac{\\pi j n t -1 }{(\\pi j n)^2}   \\right]_{0}^1\n",
    "\\right] = $\n",
    "\n",
    "> $ = \\frac{1}{2 \\pi^2 n^2} \n",
    "\\left[ -2+ \\pi j n \\left( e^{-\\pi j n} - e^{\\pi j n} \\right) + \\left( e^{-\\pi j n} + e^{\\pi j n} \\right)\n",
    "\\right]$\n",
    "> \n",
    "> Korzystając ze wzorów Eulera możemy zwinąć to wyrażenie do funkcji trygonometrycznych:\n",
    ">\n",
    "> $c_n =  \\frac{1}{ \\pi^2 n^2} (\\cos(\\pi n ) - \\sin(\\pi n)  -1)$\n",
    "\n",
    "### Rekonstrukcja sygnałów:\n",
    "Na podstawie wyników obliczeń analitycznych proszę napisać program, który demonstruje jaki jest wynik składania coraz większej liczby czynników.\n",
    "\n",
    "\n",
    "\n",
    "Zacznijmy od implementacji funkcji obliczającej współczynnik fourierowski dla zadanego `n`. W implementacji musimy zwrócić uwagę na fakt, że:\n",
    "* $\\lim_{n \\rightarrow 0} \\frac{1}{ \\pi^2 n^2} \\left(\\cos(\\pi n )-\\sin(\\pi n)  -1\\right) = \\frac{1}{2} $\n",
    "* zaś dla pozostałych ''n'' całkowitych możemy uwzględnić, że $ \\sin(\\pi n) = 0$."
   ]
  },
  {
   "cell_type": "code",
   "execution_count": 19,
   "metadata": {
    "collapsed": true,
    "deletable": true,
    "editable": true
   },
   "outputs": [],
   "source": [
    "def skladnik_modul_t(n):\n",
    "    '''Funkcja obliczająca n-ty element szeregu Fouriera dla funkcji moduł t\n",
    "           n - który element szeregu'''\n",
    "     \n",
    "    if n==0:\n",
    "        c_n = .5\n",
    "    else:\n",
    "        c_n = 1/(np.pi**2*n**2)*(np.cos(np.pi*n) - np.sin(np.pi*n)-1)\n",
    "    return c_n"
   ]
  },
  {
   "cell_type": "markdown",
   "metadata": {
    "deletable": true,
    "editable": true
   },
   "source": [
    "Poniższy kod implementuje sumowanie zadanej liczby składników szeregu i ilustruje wynik.\n",
    "* Proszę uruchomić go dla <tt>N={2, 4, 6, 20}</tt>:\n",
    "* Proszę zwrócić uwagę, że otrzymywane sumy są równe swojej części rzeczywistej "
   ]
  },
  {
   "cell_type": "code",
   "execution_count": 20,
   "metadata": {
    "collapsed": false,
    "deletable": true,
    "editable": true,
    "scrolled": true
   },
   "outputs": [
    {
     "name": "stdout",
     "output_type": "stream",
     "text": [
      "n= -2, c= -0.00\n",
      "n= -1, c= -0.20\n",
      "n= 0, c= 0.50\n",
      "n= 1, c= -0.20\n",
      "n= 2, c= 0.00\n"
     ]
    },
    {
     "name": "stderr",
     "output_type": "stream",
     "text": [
      "/home/pawel/.local/lib/python3.5/site-packages/numpy/core/numeric.py:531: ComplexWarning: Casting complex values to real discards the imaginary part\n",
      "  return array(a, dtype, copy=False, order=order)\n"
     ]
    },
    {
     "data": {
      "image/png": "[encoded data removed]",
      "text/plain": [
       "<matplotlib.figure.Figure at 0x7f5e9c4d16a0>"
      ]
     },
     "metadata": {},
     "output_type": "display_data"
    },
    {
     "name": "stdout",
     "output_type": "stream",
     "text": [
      "n= -4, c= -0.00\n",
      "n= -3, c= -0.02\n",
      "n= -2, c= -0.00\n",
      "n= -1, c= -0.20\n",
      "n= 0, c= 0.50\n",
      "n= 1, c= -0.20\n",
      "n= 2, c= 0.00\n",
      "n= 3, c= -0.02\n",
      "n= 4, c= 0.00\n"
     ]
    },
    {
     "data": {
      "image/png": "[encoded data removed]",
      "text/plain": [
       "<matplotlib.figure.Figure at 0x7f5e9c035390>"
      ]
     },
     "metadata": {},
     "output_type": "display_data"
    },
    {
     "name": "stdout",
     "output_type": "stream",
     "text": [
      "n= -6, c= -0.00\n",
      "n= -5, c= -0.01\n",
      "n= -4, c= -0.00\n",
      "n= -3, c= -0.02\n",
      "n= -2, c= -0.00\n",
      "n= -1, c= -0.20\n",
      "n= 0, c= 0.50\n",
      "n= 1, c= -0.20\n",
      "n= 2, c= 0.00\n",
      "n= 3, c= -0.02\n",
      "n= 4, c= 0.00\n",
      "n= 5, c= -0.01\n",
      "n= 6, c= 0.00\n"
     ]
    },
    {
     "data": {
      "image/png": "[encoded data removed]",
      "text/plain": [
       "<matplotlib.figure.Figure at 0x7f5e9c3e59b0>"
      ]
     },
     "metadata": {},
     "output_type": "display_data"
    },
    {
     "name": "stdout",
     "output_type": "stream",
     "text": [
      "n= -20, c= -0.00\n",
      "n= -19, c= -0.00\n",
      "n= -18, c= -0.00\n",
      "n= -17, c= -0.00\n",
      "n= -16, c= -0.00\n",
      "n= -15, c= -0.00\n",
      "n= -14, c= -0.00\n",
      "n= -13, c= -0.00\n",
      "n= -12, c= -0.00\n",
      "n= -11, c= -0.00\n",
      "n= -10, c= -0.00\n",
      "n= -9, c= -0.00\n",
      "n= -8, c= -0.00\n",
      "n= -7, c= -0.00\n",
      "n= -6, c= -0.00\n",
      "n= -5, c= -0.01\n",
      "n= -4, c= -0.00\n",
      "n= -3, c= -0.02\n",
      "n= -2, c= -0.00\n",
      "n= -1, c= -0.20\n",
      "n= 0, c= 0.50\n",
      "n= 1, c= -0.20\n",
      "n= 2, c= 0.00\n",
      "n= 3, c= -0.02\n",
      "n= 4, c= 0.00\n",
      "n= 5, c= -0.01\n",
      "n= 6, c= 0.00\n",
      "n= 7, c= -0.00\n",
      "n= 8, c= 0.00\n",
      "n= 9, c= -0.00\n",
      "n= 10, c= 0.00\n",
      "n= 11, c= -0.00\n",
      "n= 12, c= 0.00\n",
      "n= 13, c= -0.00\n",
      "n= 14, c= 0.00\n",
      "n= 15, c= -0.00\n",
      "n= 16, c= 0.00\n",
      "n= 17, c= -0.00\n",
      "n= 18, c= 0.00\n",
      "n= 19, c= -0.00\n",
      "n= 20, c= 0.00\n"
     ]
    },
    {
     "data": {
      "image/png": "[encoded data removed]",
      "text/plain": [
       "<matplotlib.figure.Figure at 0x7f5e9c06c5c0>"
      ]
     },
     "metadata": {},
     "output_type": "display_data"
    }
   ],
   "source": [
    "t = np.arange(-1,1,0.1)\n",
    "syg = np.zeros(len(t),dtype='complex')\n",
    " \n",
    "N = [2,4,6,20] # ustalamy ile par zespolonych eksponensów sumujemy\n",
    "for i in N:\n",
    "    for n in range(-i,i+1):\n",
    "        c = skladnik_modul_t(n)\n",
    "        print ('n= %d, c= %.2f'%(n,c))\n",
    "        syg += c * t\n",
    "    plt.plot(t,syg,'b', t, syg.imag,'r')\n",
    "    plt.ylim((-0.1, 1.1))\n",
    "    plt.show()"
   ]
  },
  {
   "cell_type": "markdown",
   "metadata": {
    "deletable": true,
    "editable": true
   },
   "source": [
    "* jak wygląda rekonstruowany sygnał poza przedziałem t  =(-1,1) ?"
   ]
  },
  {
   "cell_type": "code",
   "execution_count": 22,
   "metadata": {
    "collapsed": false,
    "deletable": true,
    "editable": true
   },
   "outputs": [
    {
     "name": "stdout",
     "output_type": "stream",
     "text": [
      "n= -2, c= -0.00\n",
      "n= -1, c= -0.20\n",
      "n= 0, c= 0.50\n",
      "n= 1, c= -0.20\n",
      "n= 2, c= 0.00\n"
     ]
    },
    {
     "name": "stderr",
     "output_type": "stream",
     "text": [
      "/home/pawel/.local/lib/python3.5/site-packages/numpy/core/numeric.py:531: ComplexWarning: Casting complex values to real discards the imaginary part\n",
      "  return array(a, dtype, copy=False, order=order)\n"
     ]
    },
    {
     "data": {
      "image/png": "[encoded data removed]",
      "text/plain": [
       "<matplotlib.figure.Figure at 0x7f5e9c074550>"
      ]
     },
     "metadata": {},
     "output_type": "display_data"
    },
    {
     "name": "stdout",
     "output_type": "stream",
     "text": [
      "n= -4, c= -0.00\n",
      "n= -3, c= -0.02\n",
      "n= -2, c= -0.00\n",
      "n= -1, c= -0.20\n",
      "n= 0, c= 0.50\n",
      "n= 1, c= -0.20\n",
      "n= 2, c= 0.00\n",
      "n= 3, c= -0.02\n",
      "n= 4, c= 0.00\n"
     ]
    },
    {
     "data": {
      "image/png": "[encoded data removed]",
      "text/plain": [
       "<matplotlib.figure.Figure at 0x7f5e9c3084e0>"
      ]
     },
     "metadata": {},
     "output_type": "display_data"
    },
    {
     "name": "stdout",
     "output_type": "stream",
     "text": [
      "n= -6, c= -0.00\n",
      "n= -5, c= -0.01\n",
      "n= -4, c= -0.00\n",
      "n= -3, c= -0.02\n",
      "n= -2, c= -0.00\n",
      "n= -1, c= -0.20\n",
      "n= 0, c= 0.50\n",
      "n= 1, c= -0.20\n",
      "n= 2, c= 0.00\n",
      "n= 3, c= -0.02\n",
      "n= 4, c= 0.00\n",
      "n= 5, c= -0.01\n",
      "n= 6, c= 0.00\n"
     ]
    },
    {
     "data": {
      "image/png": "[encoded data removed]",
      "text/plain": [
       "<matplotlib.figure.Figure at 0x7f5e9c00eac8>"
      ]
     },
     "metadata": {},
     "output_type": "display_data"
    },
    {
     "name": "stdout",
     "output_type": "stream",
     "text": [
      "n= -20, c= -0.00\n",
      "n= -19, c= -0.00\n",
      "n= -18, c= -0.00\n",
      "n= -17, c= -0.00\n",
      "n= -16, c= -0.00\n",
      "n= -15, c= -0.00\n",
      "n= -14, c= -0.00\n",
      "n= -13, c= -0.00\n",
      "n= -12, c= -0.00\n",
      "n= -11, c= -0.00\n",
      "n= -10, c= -0.00\n",
      "n= -9, c= -0.00\n",
      "n= -8, c= -0.00\n",
      "n= -7, c= -0.00\n",
      "n= -6, c= -0.00\n",
      "n= -5, c= -0.01\n",
      "n= -4, c= -0.00\n",
      "n= -3, c= -0.02\n",
      "n= -2, c= -0.00\n",
      "n= -1, c= -0.20\n",
      "n= 0, c= 0.50\n",
      "n= 1, c= -0.20\n",
      "n= 2, c= 0.00\n",
      "n= 3, c= -0.02\n",
      "n= 4, c= 0.00\n",
      "n= 5, c= -0.01\n",
      "n= 6, c= 0.00\n",
      "n= 7, c= -0.00\n",
      "n= 8, c= 0.00\n",
      "n= 9, c= -0.00\n",
      "n= 10, c= 0.00\n",
      "n= 11, c= -0.00\n",
      "n= 12, c= 0.00\n",
      "n= 13, c= -0.00\n",
      "n= 14, c= 0.00\n",
      "n= 15, c= -0.00\n",
      "n= 16, c= 0.00\n",
      "n= 17, c= -0.00\n",
      "n= 18, c= 0.00\n",
      "n= 19, c= -0.00\n",
      "n= 20, c= 0.00\n"
     ]
    },
    {
     "data": {
      "image/png": "[encoded data removed]",
      "text/plain": [
       "<matplotlib.figure.Figure at 0x7f5e9bfc8ef0>"
      ]
     },
     "metadata": {},
     "output_type": "display_data"
    }
   ],
   "source": [
    "t = np.arange(-10,10,0.1)\n",
    "syg = np.zeros(len(t),dtype='complex')\n",
    " \n",
    "N = [2,4,6,20] # ustalamy ile par zespolonych eksponensów sumujemy\n",
    "for i in N:\n",
    "    for n in range(-i,i+1):\n",
    "        c = skladnik_modul_t(n)\n",
    "        print ('n= %d, c= %.2f'%(n,c))\n",
    "        syg += c * t\n",
    "    plt.plot(t,syg,'b', t, syg.imag,'r')\n",
    "    plt.ylim((-0.1, 1.1))\n",
    "    plt.show()"
   ]
  },
  {
   "cell_type": "markdown",
   "metadata": {
    "deletable": true,
    "editable": true
   },
   "source": [
    "<hr>"
   ]
  },
  {
   "cell_type": "markdown",
   "metadata": {
    "deletable": true,
    "editable": true
   },
   "source": [
    "## Zadanie: szereg Fouriera funkcji moduł cosinus \n",
    "* Analogicznie do powyższego przykładu proszę znaleźć i zbadać szereg Fouriera dla funkcji:\n",
    "$ f(t) = |cos(t)|$\n",
    "<a href = \"http://www.wolframalpha.com/input/?i=integrate+cos(x)+exp(ax)+dx\"> wskazówka </a>"
   ]
  },
  {
   "cell_type": "code",
   "execution_count": null,
   "metadata": {
    "collapsed": true,
    "deletable": true,
    "editable": true
   },
   "outputs": [],
   "source": []
  },
  {
   "cell_type": "markdown",
   "metadata": {
    "deletable": true,
    "editable": true
   },
   "source": [
    "<hr>"
   ]
  },
  {
   "cell_type": "markdown",
   "metadata": {
    "deletable": true,
    "editable": true
   },
   "source": [
    "## Zadanie: zaimplementować ilustrację sumowania szeregu Fouriera dla sygnału prostokątnego (przykład z wykładu):"
   ]
  },
  {
   "cell_type": "code",
   "execution_count": null,
   "metadata": {
    "collapsed": true,
    "deletable": true,
    "editable": true
   },
   "outputs": [],
   "source": []
  },
  {
   "cell_type": "markdown",
   "metadata": {
    "deletable": true,
    "editable": true
   },
   "source": [
    "<hr>"
   ]
  },
  {
   "cell_type": "markdown",
   "metadata": {
    "collapsed": true,
    "deletable": true,
    "editable": true
   },
   "source": [
    "## Dyskretna Transformata Fouriera (DFT)\n",
    "\n",
    "> W praktycznych zastosowaniach mamy do czynienia z sygnałami próbkowanymi o skończonej długości. Transformata Fouriera działająca na takich sygnałach nazywana jest Dyskretną Transformatą Fouriera, a algorytm najczęściej wykorzystywany do jej obliczania to szybka trasnsformata Fouriera (Fast Fourier Transform FFT). \n",
    "Formułę na współczynniki FFT można otrzymać z [szeregu Fouriera](https://brain.fuw.edu.pl/edu/index.php/Szereg_Fouriera). Załóżmy, że sygnał który chcemy przetransformować składa się z $N$ próbek.\n",
    "\n",
    "> $\\qquad$$ s =\\{ s[0],\\dots,s[n],\\dots s[N-1]\\}$ \n",
    "\n",
    "> i próbki pobierane były co $T_s$ sekund. Zakładamy, że analizowany sygnał $s$  to jeden okres nieskończonego sygnału o  okresie  $T=N\\cdot T_s$. Wprowadźmy oznaczenie: \n",
    "\n",
    "> $\\qquad$$s[n]=s(nT_s)$. \n",
    "\n",
    "> Przepiszmy wzór na współczynniki szeregu Fouriera. Ponieważ sygnał jest teraz dyskretny, całka zamieni się na sumę Riemanna: pole będzie sumą pól prostokątów o bokach równych wartości funkcji podcałkowej w zadanych punktach $x(nT_s)\\exp(2i{\\pi}knT_s/T)$ i odległości między punktami $T_s$:\n",
    "\n",
    "> $\\qquad$$\n",
    "S[k] = \\frac{1}{NT_s}\\sum_{n=0}^{N-1}s(nT_s)e^{2i\\pi\\frac{knT_s}{NT_s}}T_s = \\frac{1}{N}\\sum_{n=0}^{N-1}s[n]e^{2i{\\pi}\\frac{kn}{N}}\n",
    "$\n",
    "\n",
    "> DFT zaimplementowana w <tt>numpy.fft</tt> jest określona jako:\n",
    "\n",
    "> $\\qquad$$A[k] =  \\sum_{m=0}^{n-1} a[m] \\exp\\left\\{-2\\pi i{mk \\over n}\\right\\}       \\qquad k = 0,\\ldots,n-1.\n",
    "$\n",
    "\n",
    "> DFT jest w ogólności zdefiniowane dla zespolonych argumentów i zwraca zespolone współczynniki. \n",
    "Odwrotna dyskretna transformata Fouriera jest zdefiniowana jako:\n",
    "\n",
    "> $\\qquad$$ a[m] = \\frac{1}{n}\\sum_{k=0}^{n-1}A[k]\\exp\\left\\{2\\pi i{mk\\over n}\\right\\}\n",
    "       \\qquad m = 0,\\ldots,n-1.\n",
    "$\n",
    "\n",
    "> Zwróćmy uwagę, że różni się ona do transformaty ''wprost'' jedynie znakiem w exponencie i normalizacją $1/n$.\n"
   ]
  },
  {
   "cell_type": "markdown",
   "metadata": {
    "deletable": true,
    "editable": true
   },
   "source": [
    "## FFT\n",
    "> * Dokumentacja numpy: http://docs.scipy.org/doc/numpy/reference/routines.fft.html\n",
    "> * numpy implementuje algorytm: [https://www.jstor.org/stable/2003354?seq=1#page_scan_tab_contents  \"An Algorithm for the Machine Calculation of Complex Fourier Series\"] James W. Cooley and John W. Tukey Mathematics of Computation Vol. 19, No. 90 (Apr., 1965), pp. 297-301.\n",
    "\n",
    "> Wartości zwracane przez <tt>fft(a,n)</tt> (<tt>a</tt> sygnał, <tt>n</tt> ilość punktów transformaty) mają następujący ''standardowy'' porządek:    \n",
    "Jeśli <tt>A = fft(a, n)</tt>, to \n",
    "* <tt>A[0]</tt> zawiera składową stałą (średnią sygnału)\n",
    "* <tt>A[1:n/2]</tt> zawiera współczynniki odpowiadające dodatnim częstościom\n",
    "* <tt>A[n/2+1:]</tt> zawiera współczynniki odpowiadające ujemnym częstościom w kolejności od bardziej do mniej ujemnych.\n",
    "* Dla parzystego ''n''  <tt>A[n/2]</tt> reprezentuje dodatnia i ujemną częstość Nyquista i dla sygnałów rzeczywistych jest liczbą rzeczywistą. \n",
    "* Dla nieparzystego <tt>n</tt>, element <tt>A[(n-1)/2]</tt> zawiera współczynnik dla największej częstości dodatniej a element <tt>A[(n+1)/2]</tt> zawiera współczynnik dla największej częstości ujemnej.\n",
    "\n",
    "> Funkcja <tt>numpy.fft.fftfreq(len(A),1.0/Fs)</tt> zwraca macierz częstości odpowiadających poszczególnym elementom wyjściowym.\n",
    "\n",
    "> Składnia:  <tt>numpy.fft.fftfreq(n, d=1.0)</tt>\n",
    "Parametry:\n",
    "* <tt>n : int</tt> &mdash; długość okna.\n",
    "* <tt>d : skalar</tt> &mdash; okres próbkowania (odwrotność częstości próbkowania).\n",
    "Zwracane częstości są obliczane w następujący sposób:\n",
    "* <tt>f = [0,1,...,n/2-1,-n/2,...,-1]/(d*n)</tt>         jeśli <tt>n</tt> jest przyste\n",
    "* <tt>f = [0,1,...,(n-1)/2,-(n-1)/2,...,-1]/(d*n) </tt>  jeśli  <tt>n</tt> jest nieparzyste. \n",
    "    \n",
    "> Funkcja <tt>numpy.fft.fftshift(A)</tt> przestawia wektor wyjściowy <tt>fft</tt> i wektor częstości, tak aby częstość zero wypadała w środku. Zastosowanie funkcji <tt>numpy.fft.ifftshift(A)</tt> odwraca działanie <tt>numpy.fft.fftshift(.)</tt>.\n",
    "    \n",
    "> Jeśli potraktujemy wejście <tt>a</tt> jako sygnał w dziedzinie czasu i policzymy <tt>A = fft(a)</tt>, wówczas <tt>np.abs(A)</tt> jest widmem amplitudowym, zaś <tt>np.abs(A)**2</tt> jest widmem mocy. Można obliczyć także widmo fazowe za pomocą funkcji  <tt>np.angle(A)</tt>."
   ]
  },
  {
   "cell_type": "markdown",
   "metadata": {
    "deletable": true,
    "editable": true
   },
   "source": [
    "<hr>"
   ]
  },
  {
   "cell_type": "markdown",
   "metadata": {
    "deletable": true,
    "editable": true
   },
   "source": [
    "### Zadanie: współczynniki zwracane przez FFT \n",
    "\n",
    "a)  Proszę wygenerować cosinusoidę oraz sinusoidę o długości 1 s, częstości 2 Hz próbkowaną 10 Hz. Proszę obliczyć współczynniki i wypisać je. \n",
    "* Jakiego typu liczby otrzymaliśmy?\n",
    "* Czy istnieją jakieś związki między współczynnikami?\n",
    "* Jaki jest związek między długością wejściowego sygnału i wyjściowych współczynników?"
   ]
  },
  {
   "cell_type": "code",
   "execution_count": null,
   "metadata": {
    "collapsed": true,
    "deletable": true,
    "editable": true
   },
   "outputs": [],
   "source": []
  },
  {
   "cell_type": "markdown",
   "metadata": {
    "deletable": true,
    "editable": true
   },
   "source": [
    "b) Proszę wygenerować sygnał będący sumą sinusoid o częstościach f = 30 Hz i f = 21 Hz, amplitudach A = 2 i A = 5, fazach pi/3 i pi/4 oraz składowej stałej 0.5, o długości T = 5 s próbkowany 128 Hz.\n",
    "  * Narysuj wygenerowany sygnał.\n",
    "  * Oblicz współczynniki i wypisz je. Jakiego rodzaju liczby otrzymaliśmy? Jaki jest związek między długością wejściowego sygnału i wyjściowych współczynników?\n",
    "  * Jaki jest związek pomiędzy argumentami zwróconych współczynników a fazą rzeczywistych sygnałów wejściowych?"
   ]
  },
  {
   "cell_type": "code",
   "execution_count": null,
   "metadata": {
    "collapsed": true,
    "deletable": true,
    "editable": true
   },
   "outputs": [],
   "source": []
  },
  {
   "cell_type": "markdown",
   "metadata": {
    "deletable": true,
    "editable": true
   },
   "source": [
    "<hr>"
   ]
  },
  {
   "cell_type": "markdown",
   "metadata": {
    "deletable": true,
    "editable": true
   },
   "source": [
    "## Widmo mocy dla sygnałów rzeczywistych: Transformaty rzeczywiste i Hermitowskie\n",
    "\n",
    "> Jeśli sygnał wejściowy jest rzeczywisty to jego transformata jest hermitowska, tzn. współczynnik przy częstości $f_k$ jest sprzężony ze współczynnikiem przy częstości $-f_k$. Oznacza to, że dla sygnałów rzeczywistych współczynniki przy ujemnych częstościach nie wnoszą żadnej dodatkowej informacji. \n",
    "\n",
    ">**Rodzina funkcji**  <tt>rfft</tt> wykorzystuje tą symetrię i zwracają tylko dodatnią część widma włącznie z częstością Nyquista. Tak więc, <tt>n</tt> punktów rzeczywistych na wejściu daje na wyjściu $\\frac{n}{2}+1$ punktów zespolonych. Funkcje odwrotne w tej rodzinie zakładają tą samą symetrię i aby na wyjściu uzyskać <tt>n</tt>  punktów rzeczywistych na wejściu trzeba podać $\\frac{n}{2}+1$ wartości zespolonych.\n",
    "    \n",
    "> Dla kompletności powiedzmy jeszcze, że możliwy jest przypadek odwrotny, tzn. widmo jest czysto rzeczywiste i odpowiada mu hermitowski sygnał zespolony. Tę symetrię wykorzystują funkcje <tt>hfft</tt>, które zakładają, że operujemy w dziedzinie czasu $\\frac{n}{2}+1$ punktami zespolonymi i odpowiadającymi im w dziedzinie częstości $n$ punktami rzeczywistymi."
   ]
  },
  {
   "cell_type": "markdown",
   "metadata": {
    "deletable": true,
    "editable": true
   },
   "source": [
    "## Zadanie: widmo mocy dźwięku\n",
    "* Pobierz sygnał http://www.fuw.edu.pl/~jarekz/SYGNALY/klawisz.b.\n",
    "* wczytaj ten sygnał jako jeden kanał typu int16\n",
    "* wykreśl ten sygnał\n",
    "* Jest to dźwięk próbkowany częstościa Fs = 44100\n",
    "* można go posłuchać za omocą kodu:"
   ]
  },
  {
   "cell_type": "code",
   "execution_count": null,
   "metadata": {
    "collapsed": true,
    "deletable": true,
    "editable": true
   },
   "outputs": [],
   "source": [
    "import sounddevice as sd\n",
    "... # wczytaj plik \n",
    "sd.play(syg, Fs)"
   ]
  },
  {
   "cell_type": "markdown",
   "metadata": {
    "deletable": true,
    "editable": true
   },
   "source": [
    "* wykreśl **widmo mocy** tego sygnału tj. **kwadrat modułu transformaty Fouriera** (jest to syg. rzeczywisty więc używamy funkcji z rodziny rfft)"
   ]
  },
  {
   "cell_type": "code",
   "execution_count": null,
   "metadata": {
    "collapsed": true,
    "deletable": true,
    "editable": true
   },
   "outputs": [],
   "source": []
  },
  {
   "cell_type": "markdown",
   "metadata": {
    "deletable": true,
    "editable": true
   },
   "source": [
    "Przy okazji: wczytywanie pliku wav, tak aby był on tablicą numpy można zrobić jak w poniższym kodzie, wówczas w Fs mamy częstość próbkowania sygnału audio, a w macierzy syg mamy  sygnał (może być stereo: lewy i prawy kanał).\n",
    "\n",
    "* Można pobrać do bieżacego katalogu przykładowy plik wav: [Candy_Dulfer_-_Lily_Was_Here.wav](https://drive.google.com/open?id=0B7k6Z_ViZid5WXc0WVQ4U0d2TVk) i wczytać oraz odtworzyć go tym kodem:"
   ]
  },
  {
   "cell_type": "code",
   "execution_count": null,
   "metadata": {
    "collapsed": true,
    "deletable": true,
    "editable": true,
    "scrolled": true
   },
   "outputs": [],
   "source": [
    "from scipy.io.wavfile import read\n",
    "import sounddevice as sd\n",
    "(Fs, syg) = read('Candy_Dulfer_-_Lily_Was_Here.wav')\n",
    "print(syg.shape)\n",
    "sd.play(syg, Fs)"
   ]
  },
  {
   "cell_type": "markdown",
   "metadata": {
    "deletable": true,
    "editable": true
   },
   "source": [
    "## Co musimy z tego zapamiętać?\n",
    "* Analiza Fourierowska polega na rzutowaniu sygnału na sygnały próbne: sinusoidy o znanych częstościach\n",
    "* Ze współczynników transformaty można odtworzyć oryginalny sygnał: mamy więc dwie reprezentacje sygnału:\n",
    " * w dziedzinie czasu\n",
    " * w dziedzinie częstości\n",
    " * między reprezentacjami przechodzimy za pomocą transformaty Fouriera i odwrotnej transformaty Fouriera\n",
    "* reprezentacja częstościowa jest na ogół zespolona: widmo mocy to kwadrat modułu transformaty Fouriera"
   ]
  }
 ],
 "metadata": {
  "anaconda-cloud": {},
  "kernelspec": {
   "display_name": "Python 3",
   "language": "python",
   "name": "python3"
  },
  "language_info": {
   "codemirror_mode": {
    "name": "ipython",
    "version": 3
   },
   "file_extension": ".py",
   "mimetype": "text/x-python",
   "name": "python",
   "nbconvert_exporter": "python",
   "pygments_lexer": "ipython3",
   "version": "3.5.2"
  }
 },
 "nbformat": 4,
 "nbformat_minor": 2
}

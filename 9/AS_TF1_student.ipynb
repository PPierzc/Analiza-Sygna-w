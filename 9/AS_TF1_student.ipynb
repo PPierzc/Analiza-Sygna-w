{
 "cells": [
  {
   "cell_type": "markdown",
   "metadata": {},
   "source": [
    "Ustawienia wyświetlania:"
   ]
  },
  {
   "cell_type": "code",
   "execution_count": 1,
   "metadata": {},
   "outputs": [
    {
     "data": {
      "text/html": [
       "<style>.container { width:100% !important; }</style>"
      ],
      "text/plain": [
       "<IPython.core.display.HTML object>"
      ]
     },
     "metadata": {},
     "output_type": "display_data"
    }
   ],
   "source": [
    "# encoding=utf8  \n",
    "#import sys  \n",
    "#reload(sys)  \n",
    "#sys.setdefaultencoding('utf8')\n",
    "% matplotlib inline\n",
    "import matplotlib\n",
    "\n",
    "matplotlib.rcParams['figure.figsize'] = (7,7)\n",
    "matplotlib.rcParams.update({'font.family': 'Arial'})\n",
    "matplotlib.rcParams.update({'font.size': 10})\n",
    "\n",
    "from IPython.core.display import display, HTML\n",
    "display(HTML(\"<style>.container { width:100% !important; }</style>\"))\n",
    "\n",
    "from ipywidgets import interact\n",
    "import matplotlib.pyplot as plt"
   ]
  },
  {
   "cell_type": "markdown",
   "metadata": {},
   "source": [
    "Importy:"
   ]
  },
  {
   "cell_type": "code",
   "execution_count": 2,
   "metadata": {
    "collapsed": true
   },
   "outputs": [],
   "source": [
    "import numpy as np\n",
    "import scipy.signal as ss"
   ]
  },
  {
   "cell_type": "markdown",
   "metadata": {},
   "source": [
    "Definicje potrzebnych funkcji:"
   ]
  },
  {
   "cell_type": "code",
   "execution_count": 3,
   "metadata": {
    "collapsed": true,
    "scrolled": true
   },
   "outputs": [],
   "source": [
    "def czas(T = 1.0, Fs = 128.0):\n",
    "    dt = 1.0/Fs\n",
    "    t = np.arange(0,T,dt)\n",
    "    return t\n",
    "\n",
    "def gabor(t0 = 0.5, sigma = 0.1, T = 1.0, f=10, phi = 0, Fs = 128.0):\n",
    "    t = czas(T,Fs)\n",
    "    s = np.exp(-((t-t0)/(sigma))**2/2) * np.cos(2*np.pi*f*(t-t0) + phi)\n",
    "    return s\n",
    " \n",
    "def sin(f = 10.0, T = 1.0, Fs = 128.0, phi =0 ):\n",
    "    '''\n",
    "    sin o zadanej cz?sto?ci (w Hz), d?ugo?ci, fazie i cz?sto?ci próbkowania\n",
    "    Domy?lnie wytwarzany jest sygna? reprezentuj?cy \n",
    "    1 sekund? sinusa o cz?sto?ci 1Hz i zerowej fazie próbkowanego 128 Hz\n",
    "    '''\n",
    "    t = czas(T,Fs)\n",
    "    s = np.sin(2*np.pi*f*t + phi)\n",
    "    return s\n",
    " \n",
    "def chirp(f0,fk,T,Fs):\n",
    "    '''\n",
    "    f0 - częstość początkowa\n",
    "    fk - częstość końcowa\n",
    "    T - długość trwania\n",
    "    Fs  -częstość próbkowania\n",
    "    '''\n",
    "    t = czas(T,Fs)\n",
    "    f  = f0 + (fk-f0)/2.0/(T)*t\n",
    "    s  = np.cos(2*np.pi*t*f)\n",
    "    return s\n",
    "\n",
    "def TFRPlot(TFR, t_mapy, f_mapy, sig, Fs=128,title =''):\n",
    "    '''\n",
    "    Funkcja do rysowania map czas-częstość z sygnałem zaprezentowanym poniżej\n",
    "    TFR - mapa czas-częstość (time-freqyency representation\n",
    "    t_mapy, f_mapy - wektory reprezentujące osie czasu i częstości\n",
    "    sig - sygnał do wyrysowania pod mapą (np. ten, z którego powstała mapa)\n",
    "    Fs - częstość próbkowania sygnału \n",
    "    title - tytuł do wyświetlenia ponad mapą\n",
    "    '''\n",
    "    df = f_mapy[1]-f_mapy[0]\n",
    "    dt = t_mapy[1]-t_mapy[0]\n",
    "    t = np.arange(0,len(sig))/Fs\n",
    "    sygAxes = plt.axes([0.05, 0.05, 0.8, 0.1])\n",
    "    tfAxes = plt.axes([0.05, 0.15, 0.8, 0.8])\n",
    "    sygAxes.plot(t,sig)\n",
    "    plt.xlim((t_mapy.min(), t_mapy.max()))\n",
    "    #py.setp(sygAxes, yticklabels=[])\n",
    "    tfAxes.imshow(TFR,aspect='auto',origin='lower',interpolation='nearest', \n",
    "                  extent=(t_mapy.min()-dt/2,t_mapy.max()+dt/2,f_mapy.min()-df/2,f_mapy.max()+df/2))\n",
    "    plt.setp(tfAxes,xticklabels=[])\n",
    "    plt.title(title)\n",
    "    plt.show()"
   ]
  },
  {
   "cell_type": "markdown",
   "metadata": {},
   "source": [
    "# Ćwiczenia z analizy sygnałów: Analiza czas-częstość; rozkład na atomy\n",
    "\n",
    "## Krótko czasowa transformata Fouriera\n",
    "\n",
    "### Definicja\n",
    "Krótko czasowa transformata Fouriera (STFT) może być rozumiana jako seria transformat Fouriera wykonanych na sygnale okienkowanym, przy czym położenie okienka w czasie jest w ramach takiej serii przesuwane monotonicznie. \n",
    "\n",
    "W wersji ciągłej możemy to zapisać tak:\n",
    "\n",
    "$F_x(t,f; h)= \\int_{-\\infty}^{\\infty}{x(u) h^*(u-t)e^{- i 2 \\pi u f} du} $"
   ]
  },
  {
   "cell_type": "markdown",
   "metadata": {},
   "source": [
    "### Odwrotność STFT - interpretacja \"atomowa\" transformaty STFT\n",
    "Jeśli okienko ma skończoną energię to STFT jest transformatą odwracalną i można odzyskać z niej sygnał w reprezentacji czasowej:\n",
    "\n",
    "$x(t) = \\frac{1}{E_h}\\int_{-\\infty}^{\\infty}\\int_{-\\infty}^{\\infty}F_x(u,f;h)h(t-u)e^{i 2\\pi t f}\\,du\\,df $\n",
    "\n",
    "gdzie $E_h=\\int_{-\\infty}^{\\infty}|h(t)|^2\\,dt $ zaś $F_x(u,f;h)$ dla ustalonego okna ($h$), ustalonego położenia w czasie ($u$) i częstości ($f$) jest liczbą (współczynnikiem).\n",
    "\n",
    "Tak więc sygnał może być rozłożony na liniową kombinację elementarnych falek 'atomów' postaci:\n",
    "\n",
    "$h_{t,f}(u)=h(u-t)e^{i 2 \\pi f u}$\n",
    "\n",
    "Każdy atom uzyskiwany jest przez translację pojedynczego okna $h$ w czasie i jego modulację częstością $f$. \n",
    "\n",
    "#### Jak wyglądaja takie 'atomy'?"
   ]
  },
  {
   "cell_type": "code",
   "execution_count": 4,
   "metadata": {},
   "outputs": [
    {
     "data": {
      "application/vnd.jupyter.widget-view+json": {
       "model_id": "36849c5b9974472585a45fb186aa9a41",
       "version_major": 2,
       "version_minor": 0
      },
      "text/plain": [
       "A Jupyter Widget"
      ]
     },
     "metadata": {},
     "output_type": "display_data"
    },
    {
     "data": {
      "text/plain": [
       "<function __main__.atom_tf>"
      ]
     },
     "execution_count": 4,
     "metadata": {},
     "output_type": "execute_result"
    }
   ],
   "source": [
    "def atom_tf(f ,t ,h_len):\n",
    "    Fs = 256\n",
    "    T= 10\n",
    "    t_idx = int(t*Fs)\n",
    "    \n",
    "    \n",
    "    u = np.arange(0,T,1/Fs)\n",
    "    h = np.zeros(len(u))\n",
    "    h_tmp = np.ones(h_len) #np.hamming itp.\n",
    "    h[t_idx:t_idx+h_len] = h_tmp\n",
    "    \n",
    "    atom = h * np.exp(2j* np.pi* f* u) \n",
    "    \n",
    "    plt.plot(u,atom.real,'b')\n",
    "    plt.plot(u,h,'r')\n",
    "    plt.xlim((0,10))\n",
    "    plt.legend(('atom','okno'))\n",
    "    plt.show()\n",
    "\n",
    "    \n",
    "interact(atom_tf, f = (1,17,1),t = (0,7,0.1), h_len =(2,512,16))\n",
    "\n",
    "\n"
   ]
  },
  {
   "cell_type": "markdown",
   "metadata": {},
   "source": [
    "### STFT a gęstość energii w przestrzeni czas-częstość\n",
    "Spektrogram: kwadrat modułu STFT, jest estymatą gęstości energi w przestrzeni czas-częstść:\n",
    "\n",
    "$S_x(t, f) =\\left|\\int_{-\\infty}^{\\infty}{x(u) h^*(u - t) e^{-i 2\\pi f u} du}\\right|^2 $"
   ]
  },
  {
   "cell_type": "markdown",
   "metadata": {},
   "source": [
    "Poniżej przedstawiona jest przykładowa implementacja dla sygnałów rzeczywistych:"
   ]
  },
  {
   "cell_type": "code",
   "execution_count": 18,
   "metadata": {},
   "outputs": [
    {
     "ename": "SyntaxError",
     "evalue": "invalid syntax (<ipython-input-18-62d6349bdeab>, line 15)",
     "output_type": "error",
     "traceback": [
      "\u001b[0;36m  File \u001b[0;32m\"<ipython-input-18-62d6349bdeab>\"\u001b[0;36m, line \u001b[0;32m15\u001b[0m\n\u001b[0;31m    S = ... # oblicz rzeczywistą transformatę zokienkowanego sygnału\u001b[0m\n\u001b[0m        ^\u001b[0m\n\u001b[0;31mSyntaxError\u001b[0m\u001b[0;31m:\u001b[0m invalid syntax\n"
     ]
    }
   ],
   "source": [
    "def spektrogram(x, okno, trans , Fs):\n",
    "    Nx = len(x)\n",
    "    No = len(okno)\n",
    "    okno = okno/np.linalg.norm(okno)\n",
    "    pozycje_okna = np.arange(0, Nx, trans)                        \n",
    "    t = pozycje_okna/Fs\n",
    "    N_trans = len(pozycje_okna)    \n",
    "    f = np.fft.rfftfreq(No, 1/Fs)\n",
    "    P = np.zeros((len(f),N_trans))\n",
    "    z = np.zeros(int(No/2))\n",
    "    sig = np.concatenate((z,x,z))\n",
    "    for i,poz in enumerate(pozycje_okna): # iterujemy po możliwych ozycjach ookna\n",
    "        s = sig[...] # pobierz wycinek sygnału o długości okna i rozpoczynający się w aktualnej pozycji okna\n",
    "        s = s*okno \n",
    "        S = ... # oblicz rzeczywistą transformatę zokienkowanego sygnału \n",
    "        P_tmp = S*S.conj() # obliczam moc   \n",
    "        P_tmp = P_tmp.real/Fs \n",
    "        if len(s)%2 ==0: # dokładamy moc z ujemnej części widma \n",
    "            P_tmp[1:-1] *=2\n",
    "        else:\n",
    "            P_tmp[1:] *=2            \n",
    "        P[:,i] = P_tmp\n",
    "    return t,f,P"
   ]
  },
  {
   "cell_type": "markdown",
   "metadata": {},
   "source": [
    "#### Własności\n",
    "Spektrogram zachowuje przesunięcie w czasie\n",
    "$ y(t) = x(t - t0)\\Rightarrow  S_y(t, f; h) = S_x(t - t0, f; h)$"
   ]
  },
  {
   "cell_type": "code",
   "execution_count": null,
   "metadata": {
    "collapsed": true
   },
   "outputs": [],
   "source": [
    "t = czas(T = 1.0, Fs = 128.0)\n",
    "h=np.hamming(65)\n",
    "for p in np.arange(0,1,0.3): #iterujemy się po położeniach sygnału w czasie\n",
    "    sig1=gabor(t0 = ... , sigma = 0.1, T = 1.0, f=10, phi = 0, Fs = 128.0)\n",
    "    t_mapy, f_mapy, TFR = spektrogram(sig1, h, trans=1 , Fs = 128.0)\n",
    "    TFRPlot(TFR, t_mapy, f_mapy, sig1, Fs=128,title ='pozycja '+str(p))"
   ]
  },
  {
   "cell_type": "markdown",
   "metadata": {},
   "source": [
    "Spektrogram zachowuje przesunięcie w częstości:\n",
    "$ y(t) = x(t) e ^{i 2 \\pi f_0 t}\\Rightarrow  S_y(t, f; h) = S_x(t, f - f_0; h) $"
   ]
  },
  {
   "cell_type": "code",
   "execution_count": null,
   "metadata": {
    "collapsed": true
   },
   "outputs": [],
   "source": [
    "t = czas(T = 1.0, Fs = 128.0)\n",
    "h=np.hamming(65)\n",
    "for freq in np.arange(10,50,10): #iterujemy się po położeniach sygnału w częstości\n",
    "    sig1=gabor(t0 = 0.5, sigma = 0.1, T = 1.0, f= ..., phi = 0, Fs = 128.0)\n",
    "    t_mapy, f_mapy, TFR = spektrogram(sig1, h, trans=1 , Fs = 128.0)\n",
    "    TFRPlot(TFR, t_mapy, f_mapy, sig1, Fs=128,title ='częstość '+str(freq)+'[Hz]')"
   ]
  },
  {
   "cell_type": "markdown",
   "metadata": {},
   "source": [
    "### Wyrazy mieszane\n",
    "* Spektrogram jest reprezentacją kwadratową. \n",
    "* Spektrogram sumy sygnałów **nie jest** sumą spektrogramów sygnałów składowych, jest tam jeszcze coś: \n",
    "\n",
    "$ y(t) = x_1(t)+x_2(t) \\Rightarrow S_y(t, f) = S_{x_1}(t, f)+S_{x_2}(t, f)+2Re\\left\\{{S_{x_1,x_2}(t, f)}\\right\\} $\n",
    "\n",
    "gdzie \n",
    "\n",
    "$ S_{x_1,x_2}(t, f) = F_{x_1}(t, f)F^*_{x_2}(t, f) $\n",
    "\n",
    "Proszę uważnie porównać trzeci z poniższych rysunków z drugim i pierwszym:"
   ]
  },
  {
   "cell_type": "code",
   "execution_count": null,
   "metadata": {
    "collapsed": true
   },
   "outputs": [],
   "source": [
    "t = czas(T = 1.0, Fs = 128.0)\n",
    "sig1=gabor(t0 = 0.4, sigma = 0.2, T = 1.0, f=20, phi = 0, Fs = 128.0)\n",
    "sig2=gabor(t0 = 0.5, sigma = 0.2, T = 1.0, f=24, phi = 0, Fs = 128.0)\n",
    "h=np.hamming(64)\n",
    "t_mapy, f_mapy, TFR = spektrogram(sig1, h, trans=1 , Fs = 128.0)\n",
    "TFRPlot(TFR, t_mapy, f_mapy, sig1, Fs=128,title ='sig1')\n",
    "\n",
    "t_mapy, f_mapy, TFR = spektrogram(sig2, h, trans=1 , Fs = 128.0)\n",
    "TFRPlot(TFR, t_mapy, f_mapy, sig2, Fs=128,title ='sig2')\n",
    "\n",
    "t_mapy, f_mapy, TFR = spektrogram(sig1+sig2, h, trans=1 , Fs = 128.0)\n",
    "TFRPlot(TFR, t_mapy, f_mapy, sig1+sig2, Fs=128,title ='sig1+sig2')"
   ]
  },
  {
   "cell_type": "markdown",
   "metadata": {},
   "source": [
    "### Zadanie: Rozdzielczość spektrogramu\n",
    "\n",
    "* zbadać rozdzielczość czasową i częstotliwościową spektrogramu posługując się poniższym sygnałem testowym \n",
    "* wykonać to dla kilku okienek $h$. (hamming, blackman o długościach 16, 32, 64, 128, 256)\n",
    "* Zaobserwować strukturę cross-termów \n",
    "\n",
    "Pytania:\n",
    "* z jakich struktur składa się analizowany sygnał?\n",
    "* czy rozdzielczość częstotliwościowa zależy od częstości struktury?\n",
    "* czy rozdzielczość zależy od długości i typu zastosowanego okienka?"
   ]
  },
  {
   "cell_type": "code",
   "execution_count": null,
   "metadata": {
    "collapsed": true
   },
   "outputs": [],
   "source": [
    "Fs = 512\n",
    "T = 1\n",
    "phi = 0\n",
    "t = czas(T = 1.0, Fs = 512.0)\n",
    "sig1=gabor(t0 = 0.2, sigma = 0.05, T = T, f=120, phi = phi, Fs = Fs )\n",
    "sig2=gabor(t0 = 0.2, sigma = 0.025, T = T, f=170, phi = phi, Fs = Fs )\n",
    "sig3 = chirp(0,256,T,Fs)\n",
    "sig4=gabor(t0 = 0.8, sigma = 0.05, T = T, f=120, phi = phi, Fs = Fs )\n",
    "sig5=gabor(t0 = 0.8, sigma = 0.025, T = T, f=70, phi = phi, Fs = Fs )\n",
    "sig6 = 0.5*sin(f = 50.0, T =T, Fs =Fs, phi = phi)\n",
    "sig7 = np.zeros(len(t))\n",
    "sig7[int(len(t)/2)] = 5\n",
    "\n",
    "sig = sig1+sig2+sig3+sig4+sig5+sig6+sig7\n",
    "h= ... # okienko\n",
    "t_mapy, f_mapy, TFR = spektrogram(sig, h, trans=1 , Fs = Fs)\n",
    "TFRPlot(TFR, t_mapy, f_mapy, sig, Fs=Fs,title ='sygnał testowy')"
   ]
  },
  {
   "cell_type": "markdown",
   "metadata": {},
   "source": [
    "### Zadanie: spektrogram z EEG\n",
    "W poniższym przykładzie proszę zbadać wpływ typu i długości okna (64, 128, 256, 1024) na wynik.\n",
    "\n",
    "w szczególności proszę zwrócić uwagę na obraz struktury oscylacyjnej pomiędzy 6 a 7 sekundą - jest to tzw. wrzeciono snu."
   ]
  },
  {
   "cell_type": "code",
   "execution_count": null,
   "metadata": {
    "collapsed": true
   },
   "outputs": [],
   "source": [
    "s = np.loadtxt('c4spin.txt')\n",
    "\n",
    "h = ... # okienko\n",
    "t_mapy, f_mapy, TFR = spektrogram(s, h, trans=1 , Fs = 128.0)\n",
    "TFRPlot(TFR, t_mapy, f_mapy, s, Fs=128,title ='EEG')"
   ]
  },
  {
   "cell_type": "markdown",
   "metadata": {},
   "source": [
    "## Ciągła transformata falkowa\n",
    "### Definicja CWT\n",
    "$ T_x(t,a;\\Psi)= \\int_{-\\infty}^{\\infty}{x(s)\\Psi^*_{t,a}(s) ds} $\n",
    "\n",
    "gdzie\n",
    "\n",
    "$ \\Psi_{t,a}(s) = \\frac{1}{\\sqrt{|a|}} \\Psi\\left(\\frac{s-t}{a}\\right) $\n",
    "\n",
    "$a$ jest skalą. Od falki $\\Psi$ wymagamy żeby miała średnią $0$.\n",
    "\n",
    "Tą transformatę można interpretować jako rzutowanie sygnału na kolejne wersje falki $\\Psi$ przesunięte o $t$ i przeskalowane o $a$. \n",
    "\n",
    "Dla falek, które są dobrze skupione wokół częstości $f_0$ dla skali $a_0=1$ można wprowadzić  utożsamienie $f=\\frac{f_0}{a}$.\n",
    "\n",
    "Proszę przyjrzeć się definicjom transformaty falkowej i STFT i opowiedzieć o analogiach i różnicach."
   ]
  },
  {
   "cell_type": "markdown",
   "metadata": {},
   "source": [
    "#### Jak wygląda falka Morleta"
   ]
  },
  {
   "cell_type": "code",
   "execution_count": 5,
   "metadata": {},
   "outputs": [
    {
     "data": {
      "application/vnd.jupyter.widget-view+json": {
       "model_id": "b44364ba4aab43f7a77b7cc660d62896",
       "version_major": 2,
       "version_minor": 0
      },
      "text/plain": [
       "A Jupyter Widget"
      ]
     },
     "metadata": {},
     "output_type": "display_data"
    },
    {
     "data": {
      "text/plain": [
       "<function __main__.falka>"
      ]
     },
     "execution_count": 5,
     "metadata": {},
     "output_type": "execute_result"
    }
   ],
   "source": [
    "def falka(f = 10,w=7):\n",
    "    Fs = 256\n",
    "    x = np.zeros(2560)\n",
    "    T= len(x)/Fs\n",
    "    t = np.arange(0,T,1/Fs)\n",
    "       \n",
    "    s = T*f/(2*w)\n",
    "    xx = np.linspace(-s * 2 * np.pi, s * 2 * np.pi, len(x))\n",
    "    psi = np.exp(1j * w * xx) * np.exp(-0.5 * (xx**2)) * np.pi**(-0.25) #falka ze skalą odpowiadajacą częstości f\n",
    "    plt.plot(t,psi.real)\n",
    "    plt.xlim((0,10))\n",
    "    plt.show()\n",
    "interact(falka, f = (1,17,1),w = (5,11,2))"
   ]
  },
  {
   "cell_type": "markdown",
   "metadata": {},
   "source": [
    "### Skalogram\n",
    "Podobnie jak dla STFT i spektrogramu, możemy dla CWT wprowadzić pojęcie skalogramu, będącego estymatą gęstości energii w przestrzeni czas-skala.\n",
    "\n",
    "$ S_x(t,a;\\Psi)=\\left| T_x(t,a;\\Psi)\\right|^2 $\n",
    "\n",
    "co dzięki związkowi między skalą a częstością można przekształcić w reprezentację czas-częstość:\n",
    "\n",
    "$S_x(t,f;\\Psi)=\\left| T_x(t,f_0/f;\\Psi)\\right|^2 $"
   ]
  },
  {
   "cell_type": "markdown",
   "metadata": {},
   "source": [
    "### Przykładowa implementacja:"
   ]
  },
  {
   "cell_type": "code",
   "execution_count": 23,
   "metadata": {
    "collapsed": true
   },
   "outputs": [],
   "source": [
    "def skalogram(x,  w=7.0, MinF = 1.0 ,MaxF = 64, df=1.0, Fs=128.):\n",
    "    '''    \n",
    "    x - sygnał\n",
    "    w - parametr falki Morleta,\n",
    "      wiąże się z jej częstością centralną i skalą w nastąpujący sposób:\n",
    "      f = 2*s*w / T\n",
    "      gdzie: s-skala,  T-długość sygnału w sek.\n",
    "      \n",
    "    MinF,MaxF - częstości pomiędzy którymi ma być liczony skalogram\n",
    "    df - odstęp pomiędzy częstościami\n",
    "    Fs - częstość próbkowania\n",
    "    '''\n",
    "    T= len(x)/Fs\n",
    "    M = len(x)\n",
    "    t = np.arange(0,T,1./Fs)\n",
    "    freqs = np.arange(MinF,MaxF,df)\n",
    "    P = np.zeros((len(freqs),M))\n",
    "    X = np.fft.fft(x)\n",
    "    for i,f in enumerate(freqs):\n",
    "        s = T*f/(2*w)\n",
    "        xx = np.linspace(-s * 2 * np.pi, s * 2 * np.pi, M)\n",
    "        psi = np.exp(1j * w * xx) * np.exp(-0.5 * (xx**2)) * np.pi**(-0.25) #falka ze skalą odpowiadajacą częstości f\n",
    "        Psi = np.fft.fft(psi)# transformata falki\n",
    "        Psi /= np.sqrt(np.sum(Psi*Psi.conj()))  # normalizujemy transformatę falki\n",
    "        tmp = np.fft.fftshift(np.fft.ifft(X*Psi)) # liczymy odwrotną transformatę od iloczynu transformaty sygnału i transformaty flaki, \n",
    "                                                   # czyli liczymy splot sygnału i falki w dziedzinie czasu\n",
    "        P[i,:] = (tmp*tmp.conj()).real # liczymy moc tego splotu\n",
    "    return t, freqs, P\n",
    " "
   ]
  },
  {
   "cell_type": "markdown",
   "metadata": {},
   "source": [
    "### Zadanie: Proszę zbadać własności skalogramu w sposób analogiczny jak spektrogramu "
   ]
  },
  {
   "cell_type": "code",
   "execution_count": null,
   "metadata": {
    "collapsed": true
   },
   "outputs": [],
   "source": []
  },
  {
   "cell_type": "markdown",
   "metadata": {},
   "source": [
    "### Zadanie: zbadać własności skalogramu za pomocą naszego próbnego sygnału \n",
    "* zbadać jak reprezentacja czas-częstość zależy od parametru falik w $w \\in \\{7, 10, 15, 20\\}$"
   ]
  },
  {
   "cell_type": "code",
   "execution_count": 25,
   "metadata": {},
   "outputs": [
    {
     "data": {
      "image/png": "[encoded data removed]",
      "text/plain": [
       "<matplotlib.figure.Figure at 0x9f2e1d0>"
      ]
     },
     "metadata": {},
     "output_type": "display_data"
    }
   ],
   "source": [
    "Fs = 512.\n",
    "T = 1\n",
    "phi = 0\n",
    "t = czas(T = 1.0, Fs = 512.0)\n",
    "sig1=gabor(t0 = 0.2, sigma = 0.05, T = T, f=120, phi = phi, Fs = Fs )\n",
    "sig2=gabor(t0 = 0.2, sigma = 0.025, T = T, f=170, phi = phi, Fs = Fs )\n",
    "sig3 = chirp(0,256,T,Fs)\n",
    "sig4=gabor(t0 = 0.8, sigma = 0.05, T = T, f=120, phi = phi, Fs = Fs )\n",
    "sig5=gabor(t0 = 0.8, sigma = 0.025, T = T, f=70, phi = phi, Fs = Fs )\n",
    "sig6 = 0.5*sin(f = 50.0, T =T, Fs =Fs, phi = phi)\n",
    "sig7 = np.zeros(len(t))\n",
    "sig7[int(len(t)/2)] = 5\n",
    "\n",
    "sig = sig1+sig2+sig3+sig4+sig5+sig6+sig7\n",
    "\n",
    "t_mapy, f_mapy, TFR = skalogram(sig, w= 7, MinF = 1.0, MaxF = Fs/2, df=1.0, Fs=Fs)\n",
    "TFRPlot(TFR, t_mapy, f_mapy, sig, Fs= Fs,title ='sygnał testowy')"
   ]
  },
  {
   "cell_type": "markdown",
   "metadata": {},
   "source": [
    "### Zadanie: zbadać zawartość sygnału  EEG za pomocą skalogramu"
   ]
  },
  {
   "cell_type": "code",
   "execution_count": 26,
   "metadata": {},
   "outputs": [
    {
     "ename": "SyntaxError",
     "evalue": "invalid syntax (<ipython-input-26-db9321eabe86>, line 4)",
     "output_type": "error",
     "traceback": [
      "\u001b[0;36m  File \u001b[0;32m\"<ipython-input-26-db9321eabe86>\"\u001b[0;36m, line \u001b[0;32m4\u001b[0m\n\u001b[0;31m    t_mapy, f_mapy, TFR = skalogram(sig, w=..., MinF = 1.0, MaxF = ..., df=0.125, Fs=Fs)\u001b[0m\n\u001b[0m                                           ^\u001b[0m\n\u001b[0;31mSyntaxError\u001b[0m\u001b[0;31m:\u001b[0m invalid syntax\n"
     ]
    }
   ],
   "source": [
    "sig = np.loadtxt('c4spin.txt')\n",
    "Fs = 128\n",
    "\n",
    "t_mapy, f_mapy, TFR = skalogram(sig, w=..., MinF = 1.0, MaxF = ..., df=0.125, Fs=Fs)\n",
    "TFRPlot(TFR, t_mapy, f_mapy, s, Fs=128,title ='EEG')"
   ]
  },
  {
   "cell_type": "markdown",
   "metadata": {
    "collapsed": true
   },
   "source": [
    "### Zadanie: zbadać zawartość sygnału EKG \n",
    "Przydadzą nam się pliki: \n",
    "* https://drive.google.com/open?id=0BzwQ_Lscn8yDNGc0aU5jSDFFMmc Plik z sygnałem EKG\n",
    "* https://drive.google.com/open?id=0BzwQ_Lscn8yDOF9jX0pjcG9LSGc Plik z metadanymi do tego sygnału\n",
    "\n",
    "Proszę:\n",
    "* wykreślić pierwsze 10 sekund sygnału\n",
    "* zastosować filtr górnoprzepustowy Butterwartha o częstości odcięcia: 2 Hz \n",
    "* Zastosuj spektrogram  z różnymi długościami okna i skalogram z różnymi parametrami falki"
   ]
  },
  {
   "cell_type": "code",
   "execution_count": null,
   "metadata": {
    "collapsed": true
   },
   "outputs": [],
   "source": [
    "from  scipy.signal import butter\n",
    "from  scipy.signal import  filtfilt\n",
    "s = np.fromfile('EKG.bin', dtype='<f') # tworzymy tablicę sig o typie określonym przez ''dtype''                                \n",
    "# ustawiamy częstość próbkowania\n",
    "Fs = 128\n",
    "# tworzymy wektor czasu\n",
    "t = np.arange(0,len(s))/Fs\n",
    "\n",
    "# ustalamy zakres indeksów sygnału i czasu do wyświetlania\n",
    "zakres =  np.logical_and(0<t, t<10)\n",
    "\n",
    "# filtr górnoprzepustowy (1Hz)\n",
    "[b,a] = butter(2, 2/(Fs/2), btype = 'highpass' )\n",
    "sf = filtfilt(b,a,s)\n",
    "plt.plot(t[zakres],sf[zakres])\n",
    "\n",
    "plt.show()\n",
    "...\n",
    "...\n"
   ]
  }
 ],
 "metadata": {
  "anaconda-cloud": {},
  "kernelspec": {
   "display_name": "Python 3",
   "language": "python",
   "name": "python3"
  },
  "language_info": {
   "codemirror_mode": {
    "name": "ipython",
    "version": 3
   },
   "file_extension": ".py",
   "mimetype": "text/x-python",
   "name": "python",
   "nbconvert_exporter": "python",
   "pygments_lexer": "ipython3",
   "version": "3.6.4"
  },
  "widgets": {
   "state": {
    "d1adf4bf31f041e081534cfbe68224d4": {
     "views": [
      {
       "cell_index": 23
      }
     ]
    }
   },
   "version": "1.2.0"
  }
 },
 "nbformat": 4,
 "nbformat_minor": 1
}

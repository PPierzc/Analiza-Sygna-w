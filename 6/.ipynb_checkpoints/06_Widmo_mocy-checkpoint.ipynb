{
 "cells": [
  {
   "cell_type": "markdown",
   "metadata": {
    "deletable": true,
    "editable": true
   },
   "source": [
    "Importujemy potrzebne biblioteki"
   ]
  },
  {
   "cell_type": "code",
   "execution_count": 2,
   "metadata": {
    "collapsed": true,
    "deletable": true,
    "editable": true
   },
   "outputs": [],
   "source": [
    "import matplotlib.pyplot as plt\n",
    "import numpy as np\n",
    "import numpy.fft as fft\n",
    "import scipy.stats as st\n",
    "from matplotlib.font_manager import FontProperties\n",
    "font = FontProperties('Arial')\n"
   ]
  },
  {
   "cell_type": "markdown",
   "metadata": {
    "deletable": true,
    "editable": true
   },
   "source": [
    "Funkcje pomocnicze, które tworzyliśmy w poprzednich skryptach:"
   ]
  },
  {
   "cell_type": "code",
   "execution_count": 11,
   "metadata": {
    "collapsed": true,
    "deletable": true,
    "editable": true
   },
   "outputs": [],
   "source": [
    "def sin(f = 1, T = 1, Fs = 128, phi =0 ):\n",
    "    '''sin o zadanej częstości (w Hz), długości, fazie i częstości próbkowania\n",
    "    Domyślnie wytwarzany jest sygnał reprezentujący \n",
    "    1 sekundę sinusa o częstości 1Hz i zerowej fazie próbkowanego 128 Hz\n",
    "    '''\n",
    " \n",
    "    dt = 1.0/Fs\n",
    "    t = np.arange(0,T,dt)\n",
    "    s = np.sin(2*np.pi*f*t + phi)\n",
    "    return (s,t)\n",
    "\n",
    "def widmo_dB(s, N_fft , F_samp):\n",
    "    S = fft.rfft(s,N_fft)/np.sqrt(N_fft)\n",
    "    S_dB = 20*np.log10(np.abs(S))\n",
    "    F = fft.rfftfreq(N_fft, 1/F_samp)\n",
    "    return S_dB,F\n",
    "\n",
    "def widmo(s, N_fft , F_samp):\n",
    "    S = fft.rfft(s,N_fft)/np.sqrt(N_fft)\n",
    "    S = np.abs(S)\n",
    "    F = fft.rfftfreq(N_fft, 1/F_samp)\n",
    "    return S,F"
   ]
  },
  {
   "cell_type": "markdown",
   "metadata": {
    "deletable": true,
    "editable": true
   },
   "source": [
    "# Widmo mocy\n",
    "<!--\n",
    "=== Moc===\n",
    "Moc chwilowa sygnału przez analogię do układów elektrycznych o jednostkowym oporze jest w analizie sygnałów przyjęta jako kwadraty próbek ($P = I^2 R = \\frac{U^2}{R}$).\n",
    "Oznaczmy sygnał \n",
    "$x[n]$, wówczas jego moc wyraża się wzorem:\n",
    ":$P[n]=x[n]^2$, \n",
    "a energia wzorem:\n",
    ":$E = \\sum _n{x[n]^2}$\n",
    "\n",
    "===Widmo mocy: tw. Plancherela i tw. Parsevala ===\n",
    "Twierdzenia te omawiane i dowodzone były na [[Szereg_Fouriera#To.C5.BCsamo.C5.9B.C4.87_Parsevala_dla_szereg.C3.B3w_Fouriera|wykładzie]]. Tutaj, tylko krótko przypomnijmy sobie: \n",
    "====Twierdzenie Plancherela====\n",
    "Jeśli $X[k]$ i $Y[k]$ są transformatami $x[n]$ i $y[n]$ odpowiednio to:\n",
    "<equation id=\"uid15\">\n",
    "$\n",
    "\\sum _{n=0}^{N-1} x[n]y^*[n] = \\frac{1}{N} \\sum _{k=0}^{N-1} X[k] Y^*[k]\n",
    "$\n",
    "</equation>\n",
    "gwiazdka oznacza sorzężenie zespolone. \n",
    "====Twierdzenie Parsevala====\n",
    "jest specjalnym przypadkiem twierdzenia Plancherela:\n",
    "<equation id=\"uid16\">\n",
    "$\n",
    "\\sum _{n=0}^{N-1} \\left|x[n]\\right|^2 = \\frac{1}{N} \\sum _{k=0}^{N-1} \\left|X[k]\\right|^2.\n",
    "$\n",
    "</equation>\n",
    "Twierdzenie to upoważnia nas do utożsamiania kwadratów wartości bezwzględnej składowych transformaty Fouriera z mocą niesioną przez odpowiadające im składowe.\n",
    "\n",
    "Na wykładzie udowodnione było twierdzenie Parsewala dla sygnałów ciągłych. Dowód tego tweirdzenia w przypadku dyskretnym można przeprowadzić następującym rachunkiem:\n",
    "\n",
    "Załóżmy, że  X jest szeregiem Fouriera x, a x jest sygnałem o długości N:\n",
    ":$X[r]=\\sum_{k=0}^{N - 1}x[k]e^{i2 \\pi kr/N} $\n",
    "\n",
    "Wtedy:\n",
    ":$|X[r]|^2 = \\sum_{k=0}^{N - 1}  x[k]e^{i2 \\pi kr/N} \\sum_{k'=0}^{N - 1} x^*[k']e^{-i2 \\pi k'r/N} $\n",
    ":::$ = \\sum_{k=0}^{N - 1}  x[k]\\sum_{k'=0}^{N - 1} x^*[k']e^{i2 \\pi (k-k')r/N} $\n",
    "\n",
    "Zsumujmy to wyrażenie stronami:\n",
    ":$\\sum_{r=0}^{N-1} |X[r]|^2 = \\sum_{r=0}^{N - 1} \\sum_{k=0}^{N - 1}  x[k]\\sum_{k'=0}^{N - 1} x^*[k']e^{i2 \\pi (k-k')r/N} $ \n",
    "\n",
    "Zmieńmy kolejność sumowania:\n",
    ":$\\sum_{r=0}^{N-1} |X[r]|^2 = \\sum_{k=0}^{N - 1}  x[k]\\sum_{k'=0}^{N - 1} x^*[k']\\sum_{r=0}^{N - 1} e^{i2 \\pi (k-k')r/N} $ \n",
    "\n",
    "Zauważmy, że:\n",
    ":$\\sum_{r=0}^{N - 1} e^{i2 \\pi (k-k')r/N} = N \\delta_{k,k'}$\n",
    "bo dla k=k' sumujemy  jedynki, dla $k \\ne k' $sumujemy N symetrycznie rozłożonych pierwiastków N-tego stopnia z $ e^{i2 \\pi (k-k')$\n",
    "\n",
    "Zatem:\n",
    ":$\\sum_{r=0}^{N - 1} |X[r]|^2 = N \\sum_{k=0}^{N - 1} |x[k]|^2$\n",
    "czyli\n",
    ":$\\sum_{k=0}^{N - 1} |x[k]|^2  = \\frac{1}{N} \\sum_{r=0}^{N - 1} |X[r]|^2$\n",
    "-->"
   ]
  },
  {
   "cell_type": "markdown",
   "metadata": {
    "deletable": true,
    "editable": true
   },
   "source": [
    "## Obliczanie mocy sygnału \n",
    "### Zadanie: Moc i energia sygnału w dziedzinie czasu\n",
    "Proszę:\n",
    "* wygenerować sygnał sinusoidalny $s$ o amplitudzie 1, częstości 10 Hz, trwający 0.3 sekundy i próbkowany z częstością 1000 Hz.\n",
    "* narysować ten sygnał przy pomocy funkcji <tt>pylab.stem</tt>, \n",
    "* obliczyć i narysować przebieg mocy w czasie $P_t = s_t^2$: '''moc w danej chwili to kwadrat wartości próbki sygnału'''\n",
    "* obliczyć energię tego sygnału $E = \\sum_t P_t \\Delta t $: '''energia to suma mocy mnożonej przez przyrosty czasu między próbkami'''"
   ]
  },
  {
   "cell_type": "code",
   "execution_count": 12,
   "metadata": {
    "collapsed": false,
    "deletable": true,
    "editable": true
   },
   "outputs": [
    {
     "name": "stdout",
     "output_type": "stream",
     "text": [
      "0.15\n"
     ]
    }
   ],
   "source": [
    "Fs = 1000\n",
    "s,t = sin(f = 10, T = 0.3, Fs = Fs, phi =0 )\n",
    "plt.subplot(2,1,1)\n",
    "plt.stem(t,s)\n",
    "plt.subplot(2,1,2)\n",
    "plt.stem(t,s**2)\n",
    "plt.show()\n",
    "print(np.sum(s**2)*1/Fs)"
   ]
  },
  {
   "cell_type": "markdown",
   "metadata": {
    "deletable": true,
    "editable": true
   },
   "source": [
    "## Moc i energia sygnału w dziedzinie częstości;\n",
    "### Periodogram: widmo mocy okienkowanego sygnału\n",
    "Aby policzyć widmo mocy sygnału z zastosowaniem okienek wprowadzimy następujące symbole:\n",
    "* sygnał: $s[n]$\n",
    "* okienko: $ w[n]$\n",
    "* okienko znormalizowane: $\\hat w[n] = \\frac{1}{\\sqrt{\\sum_{n=0}^{N-1} (w[n])^2}}w[n]$ \n",
    "<!--(w szczególnym przypadku okienka prostokątnego normalizacja ta daje $1/N^2$ występujące we wzorze na moc)-->\n",
    "* widmo mocy sygnału okienkowanego, czyli periodogram:\n",
    "$\n",
    "P[k] = \\frac{1}{\\sum_{n=0}^{N-1} (w[n])^2}  \\left|\\sum_{n=0}^{N-1} s[n]w[n] e^{i\\frac{2 \\pi }{N} k n}\\right|^2 \n",
    "$\n",
    "\n",
    "### Zadanie: Obliczanie periodogramu\n",
    "* Proszę napisać funkcję obliczającą periodogram.\n",
    " * Funkcja jako argumenty powinna przyjmować sygnał, okno (podane jako sekwencja próbek), i częstość próbkowania. \n",
    " * Zwracać powinna widmo mocy i skalę osi częstości. Wewnątrz funkcja powinna implementować liczenie widma z sygnału okienkowanego znormalizowanym oknem.\n",
    "* Funkcję proszę przetestować obliczając dla funkcji sinus energię sygnału w dziedzinie czasu i w dziedzinie częstości. Testy proszę wykonać dla okna prostokątnego, Blackmana i Haminga."
   ]
  },
  {
   "cell_type": "code",
   "execution_count": 17,
   "metadata": {
    "collapsed": false,
    "deletable": true,
    "editable": true
   },
   "outputs": [
    {
     "name": "stdout",
     "output_type": "stream",
     "text": [
      "energia sygnału: 0.997235287465\n",
      "energia periodogramu: 0.997235287465\n"
     ]
    }
   ],
   "source": [
    "def periodogram(s, okno , F_samp):\n",
    "    '''peiodogram sygnału s\n",
    "    okno - synał będzie przez nie przemnożony w czasie\n",
    "    F_samp- częstość próbkowania'''\n",
    "    okno /= np.linalg.norm(okno) # znormalizuj okno \n",
    "    s *= okno# zokienkuj sygnał\n",
    "    S = np.fft.rfft(s)# Oblicz transformatę Fouriera sygnału przy pomocy funkcji <tt>rfft</tt>\n",
    "    P =  S*S.conj()# Oblicz moc jako iloczyn unormowanej transformaty i jej sprzężenia zespolonego. \n",
    "    P /= F_samp # Unormuj widmo dzieląc przez częstość próbkowania\n",
    "    P = P.real# Do dalszych operacji wybierz tylko część rzeczywistą mocy. \n",
    "    if len(s)%2 ==0: # dokładamy moc z ujemnej części widma \n",
    "        P[1:-1] *=2\n",
    "    else:\n",
    "        P[1:] *=2\n",
    "    F = np.fft.rfftfreq(len(s), 1/Fs)# Korzystając z funkcji <tt>rfftfreq</tt> obliczamy częstości, dla których policzone są współczynniki Fouriera.\n",
    "    return F,P\n",
    "\n",
    "F_samp = 1000.0\n",
    "(x,t) = sin(f = 10.1, T =2, Fs = F_samp, phi = 0)\n",
    "N = len(x)\n",
    "okno = np.ones(N)\n",
    "\n",
    "s = x*okno # sygnał okienkowany\n",
    "#\n",
    "plt.subplot(2,2,1)\n",
    "plt.plot(t,x)\n",
    "energia_t = np.sum(x**2)/F_samp\n",
    "print ('energia sygnału:', energia_t)\n",
    "plt.title(u' sygnał')\n",
    "\n",
    "# \n",
    "plt.subplot(2,2,2)\n",
    "(S,F) = widmo(s,N,F_samp) \n",
    "plt.plot(F,S)\n",
    "plt.title(u'widmo sygnału okienkowanego')\n",
    "plt.ylabel('dB')\n",
    "#\n",
    "plt.subplot(2,2,3)\n",
    "plt.plot(t,s)\n",
    "plt.title(u' sygnał')\n",
    "plt.title(u' sygnał okienkowany ')\n",
    "\n",
    "#periodogram\n",
    "plt.subplot(2,2,4)\n",
    "(F,P) = periodogram(x,okno,F_samp)\n",
    "plt.plot(F,P)\n",
    "        \n",
    "plt.title('periodogram')\n",
    "print ('energia periodogramu:', np.sum(P))\n",
    "plt.show()"
   ]
  },
  {
   "cell_type": "markdown",
   "metadata": {
    "deletable": true,
    "editable": true
   },
   "source": [
    "# Sygnały stochastyczne\n",
    "Sygnał stochastyczny to taki sygnał, dla którego ciągu próbek nie da się opisać funkcją czasu. Kolejne próbki w takim sygnale to [zmienne losowe](https://brain.fuw.edu.pl/edu/index.php/WnioskowanieStatystyczne/Zmienne_losowe_i_generatory_liczb_pseudolosowych#Zmienna_losowa) . Można je opisać podając własności [rozkładu](https://brain.fuw.edu.pl/edu/index.php/WnioskowanieStatystyczne/Zmienne_losowe_i_generatory_liczb_pseudolosowych#Rozk.C5.82ad_prawdopodobie.C5.84stwa), z którego pochodzą. Często w opisie takich zmiennych posługujemy się [momentami rozkładów](https://brain.fuw.edu.pl/edu/index.php/WnioskowanieStatystyczne/Zmienne_losowe_i_generatory_liczb_pseudolosowych#Momenty).\n",
    "Jak można sobie wyobrazić rozkłady, z których pochodzą próbki?\n",
    "\n",
    "Można sobie wyobrazić, że obserwowany przez nas sygnał stochastyczny to jedna z możliwych realizacji procesu stochastycznego. \n",
    "\n",
    "Jeśli $K$jest zbiorem $k$ zdarzeń ($k \\in K$) i każde z tych zdarzeń ma przypisaną funkcję $x_k(t)$ zwaną realizacją procesu $\\xi (t)$, to proces stochastyczny może być zdefiniowany jako zbiór funkcji:\n",
    "$\n",
    "\\xi (t) = \\left\\lbrace x_1(t),x_2(t),\\dots , x_N(t) \\right\\rbrace \n",
    "$\n",
    "gdzie $x_k(t)$ są losowymi funkcjami czasu $t$.\n",
    "\n",
    "\n",
    "Procesy stochastyczne można opisywać przez wartości oczekiwane liczone po realizacjach.\n",
    "\n",
    "Dla przypomnienia wartość oczekiwaną liczymy tak:\n",
    "$\n",
    "{\\mu _x(t_1) = E\\left[\\xi (t_1) \\right]= \\lim _{N \\rightarrow \\infty }\\sum _{k=1}^{N}{x_k(t_1)} p(x_k,t_1)}\n",
    "$\n",
    "średnia $\\mu _x(t_1)$ procesu $\\xi (t)$ w chwili $t_1$ to suma wartości zaobserwowanych w chwili we wszystkich realizacjach $t_1$ ważona prawdopodobieństwem wystąpienia tej realizacji.\n",
    "\n",
    "Poniżej mamy przykład wytwarzania  procesu złożonego z dwóch realizacji po 50 próbek oraz estymowania jego wartości średniej. Każda próbka jest niezależną zmienną losową z rozkładu normalnego o średniej 0 i wariancji 1:"
   ]
  },
  {
   "cell_type": "code",
   "execution_count": 33,
   "metadata": {
    "collapsed": false,
    "deletable": true,
    "editable": true
   },
   "outputs": [],
   "source": [
    "Fs = 100\n",
    "T = 1\n",
    "t = np.arange(0,1,1/Fs)\n",
    "s = np.sin(2*np.pi*t*5)\n",
    "# realizacja 1\n",
    "x1 = np.random.randn(t.size)+s\n",
    "\n",
    "# realizacja 2\n",
    "x2 = np.random.randn(t.size)+s\n",
    "\n",
    "# średnia procesu\n",
    "xm = np.copy(x1)\n",
    "for i in range(100):\n",
    "    xm += np.random.randn(t.size)+s\n",
    "xm/=100\n",
    "\n",
    "# ilustracja\n",
    "plt.subplot(3,1,1)\n",
    "plt.stem(t,x1)\n",
    "plt.axis([0,T, -3,3])\n",
    "plt.title('realizacja 1')\n",
    "plt.subplot(3,1,2)\n",
    "plt.stem(t,x2)\n",
    "plt.title('realizacja 2')\n",
    "plt.axis([0,T, -3,3])\n",
    "plt.subplot(3,1,3)\n",
    "plt.stem(t,xm,'r')\n",
    "plt.title('średnia procesu')\n",
    "plt.axis([0,T, -3,3])\n",
    "plt.show()"
   ]
  },
  {
   "cell_type": "markdown",
   "metadata": {
    "deletable": true,
    "editable": true
   },
   "source": [
    "## Stacjonarność i ergodyczność\n",
    "<dl>\n",
    "\t<dt>\n",
    "\tStacjonarność:\n",
    "\t<dd>\n",
    "\tJeśli dla procesu stochastycznego $\\xi (t)$ wszystkie momenty są niezależne od czasu to jest on stajonarny w ścisłym sensie. Jeśli tylko średnia $\\mu _x$ i autokorelacja $R_x(\\tau )$ nie zależą od czasu to proces jest stacjonarny w słabym sensie, co dla wielu zastosowań jest wystarczające.\n",
    "\t<dt>\n",
    "\tErgodyczność:\n",
    "\t<dd>\n",
    "\tProces jest ergodyczny jeśli jego średnie po czasie i po realizacjach są sobie równe. Oznacza to, że dla takiego procesu jedna realizacja jest reprezentatywna i zawiera całą informację o tym procesie.\n",
    "</dl>\n",
    "\n",
    "Założenie o sygnale, że jest stacjonarny i ergodyczny pozwala zamienić sumowanie po realizacjach na sumowanie po czasie w estymatorach momentów statystycznych."
   ]
  },
  {
   "cell_type": "markdown",
   "metadata": {
    "deletable": true,
    "editable": true
   },
   "source": [
    "### Zadanie: Estymacja widma sygnału stochastycznego\n",
    "Bardzo często musimy oszacować widmo mocy sygnału zawierającego znaczny udział szumu. Przygotujmy sobie funkcję wutwarzającą _biały szum_, czyli sygnał złożony z próbek pochodzących z rozkładu Gaussa o średniej zero i zadanej wariancji:"
   ]
  },
  {
   "cell_type": "code",
   "execution_count": 37,
   "metadata": {
    "collapsed": false,
    "deletable": true,
    "editable": true
   },
   "outputs": [],
   "source": [
    "def szum(mu =0 , sigma = 1, T = 1, Fs = 128):\n",
    "    '''szum gaussowski o zadanej:\n",
    "        średniej mu\n",
    "        wariancji sigma**2\n",
    "        długości T,\n",
    "        częstości próbkowania Fs\n",
    "       '''\n",
    "    dt = 1.0/Fs\n",
    "    t = np.arange(0,T,dt)\n",
    "    s = np.random.randn(t.size)\n",
    "    return (s,t)\n",
    "\n",
    "# testujemy\n",
    "(s,t) = szum()\n",
    "plt.plot(t,s)\n",
    "plt.show()"
   ]
  },
  {
   "cell_type": "markdown",
   "metadata": {
    "deletable": true,
    "editable": true
   },
   "source": [
    "Poniższe ćwiczenie ilustruje niepewność szacowania pików w widmie otrzymanym z transformaty Fouriera dla sygnału zawierającego szum (stochastycznego).\n",
    "\n",
    "* wygeneruj $N = 20$ realizacji sygnału będącego sumą sinusoidy (f = 20 Hz, T = 1 s, Fs = 100 Hz) i  szumu gaussowskiego. Zapamiętaj wszystkie realizacje w jednej tablicy:"
   ]
  },
  {
   "cell_type": "code",
   "execution_count": 70,
   "metadata": {
    "collapsed": false,
    "deletable": true,
    "editable": true
   },
   "outputs": [],
   "source": [
    "N = 20 # liczba realizacji\n",
    "T = 1 # 1 s\n",
    "Fs = 100 # Hz\n",
    "f = 20 # Hz\n",
    "realizacje = np.zeros((N, T*Fs)) # tablica na realizacje\n",
    "for i in range(N):\n",
    "        (s,t) = sin(f=20,T=1, Fs =100) #realizacja sinusa\n",
    "        (sz,t) = szum(T=1, Fs=100)#realizacja szumu\n",
    "        syg = s+sz # sygnał będący sumą powyższych\n",
    "        realizacje[i,:] = syg # wkładamy go do tablicy"
   ]
  },
  {
   "cell_type": "markdown",
   "metadata": {
    "deletable": true,
    "editable": true
   },
   "source": [
    "* dla każdej realizacji oblicz periodogram z oknem prostokątnym i zapamiętaj go w tablicy widm:"
   ]
  },
  {
   "cell_type": "code",
   "execution_count": 71,
   "metadata": {
    "collapsed": false,
    "deletable": true,
    "editable": true
   },
   "outputs": [
    {
     "name": "stderr",
     "output_type": "stream",
     "text": [
      "/usr/lib/python3.4/site-packages/ipykernel/__main__.py:1: DeprecationWarning: using a non-integer number instead of an integer will result in an error in the future\n",
      "  if __name__ == '__main__':\n"
     ]
    }
   ],
   "source": [
    "widma = np.zeros((N,T*Fs/2+1))\n",
    "okno = np.ones(T*Fs)\n",
    "for i in range(N):\n",
    "    s = realizacje[i,:]\n",
    "    F,P = periodogram(s,okno,Fs)\n",
    "    widma[i,:] = P\n",
    "    #plt.plot(P)"
   ]
  },
  {
   "cell_type": "markdown",
   "metadata": {
    "deletable": true,
    "editable": true
   },
   "source": [
    "* wykreśl wszystkie otrzymane widma na wspólnym wykresie"
   ]
  },
  {
   "cell_type": "code",
   "execution_count": 76,
   "metadata": {
    "collapsed": true,
    "deletable": true,
    "editable": true
   },
   "outputs": [],
   "source": [
    "# for i in range(20):\n",
    "#     plt.plot(widma[i])\n",
    "plt.plot(widma)\n",
    "plt.show()"
   ]
  },
  {
   "cell_type": "markdown",
   "metadata": {
    "deletable": true,
    "editable": true
   },
   "source": [
    "Proszę obejrzeć otrzymane widma.\n",
    "* Zaobserwuj jakiego rzędu jest niepewność wyniku.\n",
    "* Czy podobny problem występuje dla sygnału bez szumu?\n",
    "* Skonstruuj funkcję rysującą średnie widmo wraz z [przedziałem ufności](https://brain.fuw.edu.pl/edu/index.php/WnioskowanieStatystyczne/_Przedzia%C5%82y_ufno%C5%9Bci)."
   ]
  },
  {
   "cell_type": "code",
   "execution_count": 83,
   "metadata": {
    "collapsed": false,
    "deletable": true,
    "editable": true
   },
   "outputs": [
    {
     "name": "stderr",
     "output_type": "stream",
     "text": [
      "/usr/lib/python3.4/site-packages/ipykernel/__main__.py:8: DeprecationWarning: using a non-integer number instead of an integer will result in an error in the future\n",
      "/usr/lib/python3.4/site-packages/ipykernel/__main__.py:18: DeprecationWarning: using a non-integer number instead of an integer will result in an error in the future\n",
      "/usr/lib/python3.4/site-packages/ipykernel/__main__.py:19: DeprecationWarning: using a non-integer number instead of an integer will result in an error in the future\n"
     ]
    }
   ],
   "source": [
    "def srednie_widmo(realizacje, FS):\n",
    "    '''\n",
    "    #  Skonstruuj funkcję rysującą średnie widmo wraz z 95% przedziałem ufności. \n",
    "    '''\n",
    "    # dla każdej realizacji oblicz periodogram z oknem prostokątnym i zapamiętaj go w tablicy widm:\n",
    "    N = realizacje.shape[0]\n",
    "    okno = np.ones(realizacje.shape[1])\n",
    "    widma = np.zeros((N,T*Fs/2+1))\n",
    "    for i in range(N):\n",
    "        F, P = periodogram(realizacje[i,:],okno,FS)\n",
    "        widma[i,:] = P\n",
    "        \n",
    "\n",
    "    srednie_w = np.mean(widma,axis=0)# usrednij widma po realizacjach w każdej z częstości osobno\n",
    "    przedzial_d = np.zeros(len(F)) # tablice na dolną i górną granicę przedziału ufności \n",
    "    przedzial_g = np.zeros(len(F))\n",
    "    for f in F: # dla każdej częstości znajdujemy granice przedziałów ufności\n",
    "        przedzial_d[f] = st.scoreatpercentile(widma[:,f], 2.5)\n",
    "        przedzial_g[f] = st.scoreatpercentile(widma[:,f], 97.5)\n",
    "    return F,  srednie_w, przedzial_d, przedzial_g\n",
    "\n",
    "F,  srednie_w, przedzial_d, przedzial_g = srednie_widmo(realizacje, Fs)\n",
    "plt.plot(F,srednie_w,'r') # rysujemy średnią\n",
    "plt.plot(F,przedzial_d,'b')# rysujemy granicę dolną\n",
    "plt.plot(F,przedzial_g,'b')# rysujemy granicę górną\n",
    "plt.show()"
   ]
  },
  {
   "cell_type": "markdown",
   "metadata": {
    "collapsed": true,
    "deletable": true,
    "editable": true
   },
   "source": [
    "## Oszacowanie błędu transformaty Fouriera dla białego szumu\n",
    "* Niech  $x(t)$ - sygnał stochastyczny, którego kolejne próbki pochodzą z niezależnych rozkładów normalnych (biały szum),\n",
    "* Jego transformata Fouriera $X(f)$ jest liczbą zespoloną\n",
    "* Wówczas, część rzeczywista $X_R(f)$ i urojona $X_I(f)$ są nieskorelowanymi zmiennymi losowymi o średniej zero i równych wariancjach. \n",
    "* Ponieważ transformata Fouriera jest operacją liniową więc składowe  $X_R(f)$ i $X_I(f)$ mają rozkłady normalne. \n",
    "* Wielkość:\n",
    "$\\qquad$ $ P(f) = |X(f)|^2 = X_R^2(f) + X_I^2(f) $\n",
    "$\\qquad$ jest sumą kwadratów dwóch niezależnych zmiennych normalnych. \n",
    "* Wielkość ta podlega rozkładowi $\\chi^2$ o dwóch stopniach swobody.\n",
    "\n",
    "* Możemy oszacować względny błąd $P(f_1) $ dla danej częstości $f_1$: $\\epsilon_r= \\sigma_{P_{f_1}}/\\mu_{P_{f_1}}$\n",
    "  * Dla rozkładu $\\chi_2^2$:  $\\sigma^2 = 2n$ i $\\mu = n$, gdzie $n$ jest ilością stopni swobody. \n",
    "  * W naszym przypadku $n =2$ więc mamy $\\epsilon_f = 1$, \n",
    "  * Oznacza to, że dla pojedynczego binu częstości w widmie $P(f)$ względny błąd wynosi 100%. \n",
    "\n",
    "* Aby zmniejszyć ten błąd trzeba zwiększyć ilość stopni swobody. Są generalnie stosowane dwie techniki:   \n",
    "  * Pierwsza: to uśrednianie sąsiednich binów częstości. Otrzymujemy wówczas wygładzony estymator mocy $\\hat{P}_k$:\n",
    "$\\qquad$$\\hat{P}_k = \\frac{1}{l}[P_k + P_{k+1} + \\dots + P_{k+l-1}]$\n",
    "$\\qquad$ Zakładając, że biny częstości  $P_i$ są niezależne estymator $P_k$ ma rozkład $\\chi^2$ o ilości stopni swobody równej $n= 2l$. Względny błąd takiego estymatora to: $\\epsilon_r= \\sqrt{\\frac{1}{l}}$. \n",
    "\n",
    "  * Druga: to podzielenie sygnału na fragmenty, obliczenie periodogramu dla każdego fragmentu, a następnie zsumowanie otrzymanych wartości:\n",
    "$\\qquad$$\\hat{P}_k=[P_{k,1}+P_{k,2}+\\dots+P_{k,j}+\\dots+P_{k,q}]$\n",
    "$\\qquad$gdzie $S_{k,j}$ jest estymatą składowej o częstości $k$ w oparciu o $j-ty$ fragment sygnału. Ilość stopni swobody wynosi w tym przypadku $q$ zatem względny błąd wynosi: $\\epsilon_r = \\sqrt{\\frac{1}{q}}$.\n",
    "\n",
    "**Zauważmy, że w obu metodach zmniejszamy wariancję estymatora kosztem rozdzielczości w częstości.**"
   ]
  },
  {
   "cell_type": "markdown",
   "metadata": {
    "deletable": true,
    "editable": true
   },
   "source": [
    "### Zadanie: Metoda Welcha\n",
    "\n",
    "Proszę zapoznać się zaimplementowaną w bibliotece scipy.signal funkcją [https://docs.scipy.org/doc/scipy-0.16.0/reference/generated/scipy.signal.welch.html welch].  Proszę zwrócić uwagę na możliwe skalowania widma! Funkcję proszę przetestować obliczając dla funkcji sinus energię sygnału w dziedzinie czasu i w dziedzinie częstości. Testy proszę wykonać dla okna prostokątnego, Blackmana i Haminga. "
   ]
  },
  {
   "cell_type": "code",
   "execution_count": null,
   "metadata": {
    "collapsed": true,
    "deletable": true,
    "editable": true
   },
   "outputs": [],
   "source": [
    "from scipy.signal import welch\n",
    "    \n",
    "Fs = 100.0\n",
    "(x,t) = sin(f = 3.1, T =20, Fs = Fs, phi = 0)\n",
    "N = len(x) # długość sygnału\n",
    "\n",
    "#periodogram\n",
    "okno = np.hamming(N)\n",
    "okno/=np.linalg.norm(okno)\n",
    "(F,P) = periodogram(x,okno,Fs)\n",
    "\n",
    "plt.subplot(2,1,1)\n",
    "plt.plot(F,P) \n",
    "plt.title('periodogram'+' energia: '+ str(np.sum(P)))\n",
    "\n",
    "# Welch\n",
    "plt.subplot(2,1,2)\n",
    "Nseg =20\n",
    "okno = np.hamming(N/Nseg) # tu potrzebujemy odpowiednio krótsze okno\n",
    "okno/=np.linalg.norm(okno)\n",
    "(F, P) = welch(...)\n",
    "plt.plot(F,P)\n",
    "plt.title('periodogram Welcha'+' energia: '+ str(Nseg*np.sum(P)))\n",
    "plt.show()"
   ]
  },
  {
   "cell_type": "markdown",
   "metadata": {
    "deletable": true,
    "editable": true
   },
   "source": [
    "### Zadanie 6: Porównanie rozdzielczości i wariancji w periodogramie i w estymatorze Welcha\n",
    "* wygeneruj 100 realizacji sygnału będącego sumą sinusoidy (f = 20 Hz, T = 10 s, Fs = 100 Hz) i szumu gaussowskiego\n",
    "* dla każdej realizacji oblicz widmo mocy za pomocą periodogramu okienkowanego oknem Blackmana\n",
    "* wykreśl wszystkie otrzymane widma na wspólnym wykresie (subplot(2,1,1))\n",
    "* Powtórz krok 2) dla estymatora Welcha z oknem Blackmana o długości 1/10 długości sygnału przesuwanym co 2 punkty, otrzymane widma wykreśl  na wspólnym wykresie (subplot(2,1,2))\n",
    "\n",
    "* Co można powiedzieć o rozdzielczości i względnym błędzie obu metod?\n",
    "<tt>bl_wzg = np.std(S,axis = 0)/np.mean(S,axis = 0)</tt> gdzie S jest tablicą zawierającą widma dla każdej z realizacji."
   ]
  },
  {
   "cell_type": "code",
   "execution_count": null,
   "metadata": {
    "collapsed": true,
    "deletable": true,
    "editable": true
   },
   "outputs": [],
   "source": [
    "def realizacja(T,Fs):\n",
    "    dt = 1.0/Fs\n",
    "    t = np.arange(0,T,dt)\n",
    "    # jedna realizacja sygnału będącego sumą sinusoidy (f = 20 Hz, T = 10 s, Fs = 100 Hz) i szumu gaussowskiego o std 5-krotnie większym niż amplituda sinusoidy\n",
    "    s =...\n",
    "    return s\n",
    "\n",
    "T=10.0\n",
    "Fs = 100.0\n",
    "N = T*Fs\n",
    "\n",
    "okno = np.blackman(N) # okno blakmana dla periodogramu\n",
    "ile_okien = 10\n",
    "Nw = N/ile_okien\n",
    "okno_w = ...#okno blackmana dla welcha\n",
    "\n",
    "N_rep = 100\n",
    "S_perio = np.zeros((N_rep,N/2+1)) # uwaga, to jest dobrze tylko dla Fs parzystych\n",
    "S_welch = np.zeros((N_rep,Nw/2+1)) # uwaga, to jest dobrze tylko dla Fs parzystych\n",
    "\n",
    "for i in range(N_rep):\n",
    "    s = realizacja(T,Fs)\n",
    "    (F_p, P) = periodogram(s,okno,Fs) \n",
    "    S_perio[i,:] = P\n",
    "    (F_w, P_w) = welch(s,Fs,window = okno_w, nperseg = Nw, noverlap = Nw/2,scaling = 'density', return_onesided = True)\n",
    "    S_welch[i,:] = P_w * ile_okien\n",
    "\n",
    "py.figure(1)    \n",
    "py.subplot(3,1,1)\n",
    "py.plot(F_p,np.mean(S_perio,axis = 0),'r',\n",
    "        F_p, st.scoreatpercentile(S_perio, 2.5,axis =0),'b', \n",
    "        F_p, st.scoreatpercentile(S_perio,97.5,axis =0),'b' )\n",
    "py.title(u'Periodogram: średnie widmo realizacji wraz z 95% CI', fontproperties = font)\n",
    "py.ylabel('V^2/Hz')\n",
    "py.subplot(3,1,2)\n",
    "py.plot(F_w,np.mean(S_welch,axis = 0),'r',\n",
    "        F_w, st.scoreatpercentile(S_welch, 2.5,axis =0),'b', \n",
    "        F_w, st.scoreatpercentile(S_welch,97.5,axis =0),'b' )\n",
    "py.title('Welch: średnie widmo realizacji wraz z 95% CI', fontproperties = font)\n",
    "py.ylabel('V^2/Hz')\n",
    "\n",
    "py.subplot(3,1,3)\n",
    "py.plot(F_p, np.std(S_perio,axis = 0)/np.mean(S_perio,axis = 0)*100)\n",
    "py.plot(F_w, np.std(S_welch,axis = 0)/np.mean(S_welch,axis = 0)*100)\n",
    "py.ylim([0,250])\n",
    "py.xlabel('Częstość Hz', fontproperties = font)\n",
    "py.ylabel('%')\n",
    "py.legend(('periodogram','Welch'))\n",
    "py.title('Błąd względny', fontproperties = font)\n",
    "py.show()\n"
   ]
  },
  {
   "cell_type": "markdown",
   "metadata": {
    "deletable": true,
    "editable": true
   },
   "source": [
    "<!--\n",
    "===Wielookienkowa metoda Thomsona===\n",
    "Metoda ta \n",
    "[http://ieeexplore.ieee.org/Xplore/login.jsp?url=http%3A%2F%2Fieeexplore.ieee.org%2Fiel5%2F5%2F31317%2F01456701.pdf%3Farnumber%3D1456701&authDecision=-201 Spectrum estimation and harmonic analysis] \n",
    "znana jest pod anglojęzyczną nazwą  ''multitaper''. \n",
    "\n",
    "Można ją opisać poniższym algorytmem:\n",
    "* wygeneruj sekwencję ortogonalnych okienek charakteryzujących się minimalnymi wyciekami widma (stosunek energii w piku centralnym do energii w listkach bocznych jest wysoki). Sekwencja takich okien nazywana jest discrete prolate spheroidal sequences (DPSS) lub sekwencją Slepiana.\n",
    "* oblicz widmo sygnału okienkowanego każdym z okien w sekwencji\n",
    "* uśrednij otrzymane widma\n",
    "\n",
    "Kolejne dwa zadania służą zapoznaniu się z tą metodą.\n",
    "====Własności okienek DPSS ====\n",
    "Do generacji sekwencji okienek DPSS wykorzystamy moduł [http://brain.fuw.edu.pl/edu-wiki/images/f/f6/Gendpss.py Gendpss.py]. Proszę go zapisać w swoim katalogu roboczym. \n",
    "Importujemy go do naszych programów tak jak każdy inny moduł np.:\n",
    "<source lang = python>\n",
    "import Gendpss as dpss\n",
    "</source>\n",
    "Funkcja potrzebna nam z tego modułu to <tt>gendpss()</tt>. Funkcja ta wytwarza obiekt reprezentujący konkretną sekwencję DPSS. Wywołujemy ją następująco:\n",
    "<source lang = python>\n",
    "w = dpss.gendpss(N,NW,K)\n",
    "</source>\n",
    ":gdzie: N: długość okna,\n",
    ":        NW: iloczyn czas-szerokość pasma\n",
    ":        K: ile okien w sekwencji\n",
    "Po powyższym wywołaniu obiekt <tt>w</tt> posiada dwie interesujące nas tablice:\n",
    "* <tt>w.lambdas</tt> - to wartości własne okienek. Są one miarą koncentracji energii w piku głównym, jest to zatem miara jakości okienka (dobre okienka mają wartości własne bliskie 1). Zgodnie z teorią takich wartości powinno być 2*NW-1.\n",
    "* <tt>w.dpssarray[i]</tt> - i-te okienko.\n",
    "\n",
    "=====Polecenia:=====\n",
    "Proszę:\n",
    "* wygenerować okienka o długości 256, NW = 2. Ilość okien K raz ustalić na 3 (2*NW-1) a drugi raz na 5. Dla ilu okienek ich wartości własne są bliskie 1?\n",
    "* narysować przebieg czasowy okienek\n",
    "* sprawdzić czy energia okienek jest znormalizowana do 1.\n",
    "* sprawdzić czy kolejne okienka są do siebie ortogonalne. W tym celu należy obliczyć iloczyn skalarny pomiędzy kolejnymi okienkami (np.sum(w.dpssarray[i]*w.dpssarray[j])). \n",
    "* wyrysować widma okienek analogicznie jak [[%C4%86wiczenia_3#Badanie_w.C5.82asno.C5.9Bci_okien|w tym ćwiczeniu]]\n",
    "\n",
    " *\n",
    "\n",
    "-->\n",
    "\n",
    "<!--\n",
    "<source lang = python>\n",
    "import pylab as py\n",
    "import numpy as np\n",
    "import gendpss as dpss\n",
    "from numpy.fft import fft,fftshift,fftfreq\n",
    "\n",
    "def widmo_dB(s, N_fft , F_samp):\n",
    "    S = fft(s,N_fft)/np.sqrt(N_fft)\n",
    "    S_dB = 20*np.log10(np.abs(S))\n",
    "    F = fftfreq(N_fft, 1.0/F_samp)\n",
    "    return (fftshift(S_dB),fftshift(F))\n",
    "\n",
    "\n",
    "NW = 2\n",
    "ile_okien = 5#2*NW-1\n",
    "N_okna = 256\n",
    "w = dpss.gendpss(N=N_okna,NW=NW,K=ile_okien)\n",
    "print 'Wartości własne:'\n",
    "print w.lambdas\n",
    "\n",
    "print 'Wartości iloczynów skalarnych pomiędzy kolejnymi okienekami:'\n",
    "py.figure(1)\n",
    "for i in range(ile_okien):\n",
    "    py.plot(w.dpssarray[i])\n",
    "    for j in range(i+1):\n",
    "        print np.sum(w.dpssarray[i]*w.dpssarray[j]),\n",
    "    print\n",
    "\n",
    "py.figure(2)\n",
    "NFFT = N_okna*4\n",
    "S=np.zeros((ile_okien,NFFT))\n",
    "for i in range(ile_okien):\n",
    "    py.subplot(ile_okien,1,i+1)\n",
    "    (S_db, F)= widmo_dB(w.dpssarray[i], NFFT, 1.0)\n",
    "    S[i,:]=S_db\n",
    "    py.plot(F,S_db)\n",
    "    py.ylim((-200,20))\n",
    "py.show()\n",
    "\n",
    "</source>\n",
    "-->"
   ]
  },
  {
   "cell_type": "markdown",
   "metadata": {
    "deletable": true,
    "editable": true
   },
   "source": [
    "### Zadanie: Estymacja widma mocy metodą wielookienkową Thomsona (multitaper)\n",
    "Jeśli nie mamy do dyspozycji dostatecznie długiego sygnału stacjonarnego i ergodycznego aby astosować metodę Welcha pomocne może być wykorzystanie zestawów okien ortogonalnych (Discrete Prolate Spheroidal Sequences- DPSS).  Ponieważ są ortogonalne więc widma estymowane periodogramem z każdym z tych okienek stanowią niezależne estymaty gęstości mocy. Ich wartość średnia ma mniejszą wariancję niż estymata za pomocą pojedynczego periodogramu. Oczywiście nie ma nic za darmo: za mniejszą wariancję płacimy szerokością piku.\n",
    "\n",
    "Metoda ta została zaproponowana w pracy:    D. J. Thomson, “Spectrum Estimation and Harmonic Analysis,” Proceedings of the IEEE, vol. 70, no. 9, pp. 1055 – 1096, 1982"
   ]
  },
  {
   "cell_type": "markdown",
   "metadata": {
    "deletable": true,
    "editable": true
   },
   "source": [
    "#### Zestawy okien ortogonalnych\n",
    "Najpierw zobaczmy jak wyglądają sekwencje okien. \n",
    "* Moduł zawierający funkcję do generowania takiej sekwencji można ściągnąć stąd: http://www.fuw.edu.pl/~jarekz/dpss.py\n",
    "* w poniższym kodzie proszę sprawdzić wyniki dla NW $\\in \\{2,3,4,5\\}$.\n",
    "* co się dzieje jeśli bierzemy `K` więcej niż `2*NW-1` ?"
   ]
  },
  {
   "cell_type": "code",
   "execution_count": null,
   "metadata": {
    "collapsed": true,
    "deletable": true,
    "editable": true
   },
   "outputs": [],
   "source": [
    "# -*- coding: utf-8 -*-\n",
    "import pylab as py\n",
    "import numpy as np\n",
    "from dpss import dpss_window\n",
    "\n",
    "NW = 2         # szerokość pasma w którym zlokalizowane są piki główne okien\n",
    "K = 2*NW-1     # liczba okien\n",
    "N = 100        # rozmiar okna\n",
    "py.figure(1)\n",
    "w, eigen = dpss_window(N, NW, K) # generujemy okna\n",
    "for i, eig in enumerate(eigen): \n",
    "    py.plot(w[i,:])  # kolejno wykreślamy wszystkie okna\n",
    "py.legend(range(len(eigen)))\n",
    "py.show()\n",
    "\n",
    "print(eigen)\n",
    "# sprawdzamy czy okna są ortogonalne \n",
    "print('Iloczyny skalarne sekwencji okien:')\n",
    "for i in range(len(eigen)):\n",
    "    for j in range(i,len(eigen)):\n",
    "        print('okno '+str(i)+' z oknem '+str(j)+': '+'{:.5f}'.format( np.dot(w[i,:],w[j,:]) ) )\n"
   ]
  },
  {
   "cell_type": "markdown",
   "metadata": {
    "deletable": true,
    "editable": true
   },
   "source": [
    "### Zadanie: Estymacja widma mocy\n",
    "Proszę napisać funkcję do estymacji mocy metodą wielookienkową. \n",
    "\n",
    "Funkcja powinna pobierać następujące argumenty: sygnał, iloczyn NW, częstość próbkowania sygnału. Funkcja powinna zwracać krotkę <tt>(F,P)</tt> gdzie <tt>P</tt> widmo mocy, <tt>F</tt> skala częstości.\n",
    "Przykładowe wywołanie takiej funkcji powinno wyglądać tak:\n",
    "<tt> (S,F) = mtm(s,  NW = 3, Fs = 128)</tt>\n",
    "\n",
    "Działanie funkcji sprawdź estymując i wykreślając widmo sinusoidy np. o częstości 10 Hz, czasie trwania 1s, próbkowanej 100Hz z dodanym szumem gaussowskim o średniej 0 i wariancji 1. Sprawdź także zachowanie energii przez tą estymatę. Dla porównania na tym samym wykresie dorysuj widmo otrzymane przez periodogram z oknem prostokątnym.\n",
    "\n",
    "\n",
    "Algorytm do zastosowania wewnątrz funkcji:\n",
    "* Oblicz maksymalną liczbę okienek <tt> K = 2*NW-1</tt>\n",
    "* Oblicz długość sygnału\n",
    "* wygeneruj serię okienek dpss\n",
    "* dla każdego z otrzymanych okienek oblicz widmo mocy iloczynu tego okienka i sygnału. Dla i-tego okienka będzie to: <tt>Si = np.abs(fft(s*w[i]))**2</tt>\n",
    "* uśrednij widma otrzymane dla wszystkich okienek\n",
    "* wygeneruj oś częstości (<tt>fftfreq</tt>)\n",
    "\n",
    "Uzupełnij poniższy kod:"
   ]
  },
  {
   "cell_type": "code",
   "execution_count": null,
   "metadata": {
    "collapsed": true,
    "deletable": true,
    "editable": true
   },
   "outputs": [],
   "source": [
    "from dpss import dpss_window\n",
    "\n",
    "\n",
    "def mtm(s, NW , Fs):\n",
    "    '''estymacja widma w oparciu o  metodę Multiteper \n",
    "    D. J. Thomson, “Spectrum Estimation and Harmonic Analysis,” Proceedings of the\n",
    "    IEEE, vol. 70, no. 9, pp. 1055 – 1096, 1982.\n",
    "    x - sygnał\n",
    "    N -ilość punktów okna\n",
    "    NW - iloczyn długości okna w czasie i szerokości w częstości\n",
    "    K - ilość okien\n",
    "\n",
    "    funkcja zwraca estymatę mocy widmowej\n",
    "    '''\n",
    "    K = 2*NW-1\n",
    "    N = len(s)\n",
    "    w, eigen = ...# wygeneruj sekwencję okien DPSS\n",
    "    P_tmp =0\n",
    "    for i in range(K): #dla każdego okna\n",
    "        (F,Pi)= ...# oblicz periodogram\n",
    "        P_tmp+= ...# dodaj do zmiennej tymczasowej\n",
    "    P = ...# moc jest średnią z periodogramów dla poszczególnych okien\n",
    "    F = rfftfreq(N,1.0/Fs)\n",
    "    return (F, P)\n",
    "         \n",
    "#prezentacja widma\n",
    "Fs = 200.0 # częstość próbkowania\n",
    "\n",
    "# tworzymy sygnał testowy\n",
    "(s1,t) = sin(f=10.2,Fs=Fs) \n",
    "(s2,t) = sin(f=17.2,Fs=Fs)\n",
    "s = s1+s2+np.random.randn(len(t))\n",
    "\n",
    "py.figure(1)\n",
    "NW = 2 # ustalamy szerokość pasma\n",
    "(F_m,P_m) = ... # estymujemy widmo metodą mtm\n",
    "(F_p,P_p) = ... # estymujemy widmo metodą periodogram z oknem prostokątnym\n",
    "# wykreślamy wyniki\n",
    "py.plot(F_m,P_m)\n",
    "py.plot(F_p,P_p ,'g')\n",
    "\n",
    "# opisy wykresu\n",
    "py.xlabel('Częstość [Hz]', fontproperties = font)\n",
    "py.ylabel('Gestość mocy V^2/Hz', fontproperties = font)\n",
    "py.title('Porównanie estymat gęstości mocy: wielokoienkowej i periodogramu', fontproperties = font)\n",
    "py.legend(('wielookienkowa','periodogram'))\n",
    "\n",
    "# test zacowania energii\n",
    "print('Test zachowania energii:')\n",
    "print( 'energia w czasie = \\t\\t'+ '{:.5f}'.format( ...  )) \n",
    "print( 'energia w mtm = \\t\\t'+ '{:.5f}'.format( ... ))\n",
    "print( 'energia w periodogramie = \\t'+ '{:.5f}'.format( ... ))\n",
    "py.show()\n"
   ]
  },
  {
   "cell_type": "markdown",
   "metadata": {
    "deletable": true,
    "editable": true
   },
   "source": [
    "### Zadanie\n",
    "Proszę wykonać ilustrację średniej wraz z przedziałami ufności 95% oraz błędu względnego w estymatorze wielookienkowym (dla porównania periodogram), analogicznie jak we wcześniejszym zadaniu."
   ]
  },
  {
   "cell_type": "code",
   "execution_count": null,
   "metadata": {
    "collapsed": true,
    "deletable": true,
    "editable": true
   },
   "outputs": [],
   "source": []
  },
  {
   "cell_type": "markdown",
   "metadata": {
    "deletable": true,
    "editable": true
   },
   "source": [
    "# Co musimy z tego zapamiętać\n",
    "* Jak definiujemy moc sygnału i energię w dziedzinie czasu w analizie sygnałów?\n",
    "* Jak definiujemy gęstość energii i energię sygnału w dziedzinie częstości?\n",
    "* Jak estymować periodogram?\n",
    "* Co to znaczy że sygnał jest stochastyczny?\n",
    "* Co to znaczy że sygnał jest stacjonarny i ergodyczny?\n",
    "* Jaki jest błąd względny widma białego szumu estymowanego za pomocą periodogramu?\n",
    "* Metody zmniejszenia błędu względnego: metoda Welcha i metoda wielookienkowa Thomsona - na czym polegają, jakie są podobieństwa i różniece w stosowaniu tych metod?\n",
    "* W jakich sytuacjach wybrać metodę Welcha a w jakich Thomsona?"
   ]
  }
 ],
 "metadata": {
  "anaconda-cloud": {},
  "kernelspec": {
   "display_name": "Python 3",
   "language": "python",
   "name": "python3"
  },
  "language_info": {
   "codemirror_mode": {
    "name": "ipython",
    "version": 3
   },
   "file_extension": ".py",
   "mimetype": "text/x-python",
   "name": "python",
   "nbconvert_exporter": "python",
   "pygments_lexer": "ipython3",
   "version": "3.5.2"
  }
 },
 "nbformat": 4,
 "nbformat_minor": 2
}

{
 "cells": [
  {
   "cell_type": "markdown",
   "metadata": {
    "deletable": true,
    "editable": true
   },
   "source": [
    "Importujemy potrzebne biblioteki"
   ]
  },
  {
   "cell_type": "code",
   "execution_count": 1,
   "metadata": {
    "collapsed": true,
    "deletable": true,
    "editable": true
   },
   "outputs": [],
   "source": [
    "%matplotlib inline\n",
    "import numpy.fft as fft\n",
    "import numpy as np\n",
    "import matplotlib.pyplot as plt\n",
    "import scipy.signal as ss"
   ]
  },
  {
   "cell_type": "markdown",
   "metadata": {
    "deletable": true,
    "editable": true
   },
   "source": [
    "## Twierdzenie o splocie\n",
    "\n",
    "<!--Na pierwszych ćwiczeniach poznaliśmy poznaliśmy operację [[Systemy_liniowe_niezmiennicze_w_czasie#Splot|splotu]] jako efekt działania systemu liniowego niezmienniczego w czasie. Poznaliśmy wówczas jego [[Systemy_liniowe_niezmiennicze_w_czasie#W.C5.82asno.C5.9Bci_splotu|własności]].\n",
    "Okazuje się, że gdy rozważamy sprzężone ze sobą za pomocą transformaty Fouriera dziedziny czasu i częstości splot ma wiele wspólnego z mnożeniem. Związek ten można zapisać jako -->\n",
    "\n",
    "Przypomnijmy sobie poznane na wykładzie \n",
    "<a href=\"https://brain.fuw.edu.pl/edu/index.php/Twierdzenia_o_splocie_i_o_pr%C3%B3bkowaniu_(aliasing)#Twierdzenie_o_splocie\"> Twierdzenie o splocie</a> \n",
    "\n",
    "$\n",
    "g(t)=\\left(s * h\\right)(t)\\quad \\Rightarrow \\quad G(f)=S(f)\\cdot H(f)\n",
    "$\n",
    "\n",
    "To twierdzenie działa też w drugą stronę:\n",
    "\n",
    "$\n",
    "G(f)=\\left(S * H\\right)(f)\\quad \\Rightarrow \\quad g(t)=s(t)\\cdot h(t)\n",
    "$\n",
    "\n",
    "W praktyce oznacza to tyle, że jeśli w jednej dziedzinie jakieś dwa sygnały przez siebie przemnożymy, to w drugiej dziedzinie transformaty tych sygnałów splatają się. Własność ta ma bardzo ważne konsekwencje, np. przy estymacji widma skończonego fragmentu sygnału. Dlaczego?\n",
    "\n",
    "Wyobraźmy sobie, że mamy nieskończenie długi sygnał. Oprócz niego mamy też funkcję, która jest niezerowa tylko na skończonym odcinku. Funkcję taką będziemy nazywać oknem. Pobranie fragmentu sygnału można wyobrazić sobie jako efekt pomnożenia badanego sygnału przez okno. Ta operacja mnożenia w dziedzinie czasu, w dziedzinie częstości odpowiada splotowi widma sygnału z widmem okna. Aby uzyskać sygnał o skończonej długości odrzucamy wyzerowane odcinki. FFT widzi taki skończony odcinek jako  periodyczne przedłużenie.  Widać, że w praktyce estymowania widma zawsze mamy  do czynienia z widmami będącymi splotem widma sygnału i widma okna, ponieważ zawsze pracujemy z sygnałami o skończonej długości.\n",
    "\n",
    "### Zastosowania\n",
    "* pozwala na zamianę splotu na mnożenie\n",
    "\n",
    "* daje wgląd w okienkowanie\n",
    "\n",
    "* łatwiej można zrozumieć działanie filtrów\n",
    "\n",
    "\n",
    "# Okienka\n",
    "## Wstęp\n",
    "* Jakie są dostępne okna w <tt>scipy.signal</tt>? Proszę odwiedzić stronę z [dokumentacją](http://docs.scipy.org/doc/scipy-0.14.0/reference/signal.html).\n",
    "* Jak wyglądają te okienka?"
   ]
  },
  {
   "cell_type": "code",
   "execution_count": 2,
   "metadata": {
    "collapsed": false,
    "deletable": true,
    "editable": true
   },
   "outputs": [
    {
     "data": {
      "image/png": "[encoded data removed]",
      "text/plain": [
       "<matplotlib.figure.Figure at 0x7f57d59792e8>"
      ]
     },
     "metadata": {},
     "output_type": "display_data"
    }
   ],
   "source": [
    "from scipy import signal\n",
    "w = signal.bartlett(10)\n",
    "plt.plot(w,'.')\n",
    "plt.show()"
   ]
  },
  {
   "cell_type": "markdown",
   "metadata": {
    "deletable": true,
    "editable": true
   },
   "source": [
    "## Badanie własności okien\n",
    "### Zadanie 1: Własności różnych okien  i szerokość prążka w widmie\n",
    "Widmo amplitudowe w skali dB sygnału $s$, jego transformata Fouriera $S$:\n",
    "\n",
    "$ P_{dB} = 20*np.log10( abs(S) ) $\n",
    "\n",
    "Proszę zwrócić uwagę na charakterystyczne elementy: szerokość piku głównego, szybkość zanikania listków bocznych, zera. \n",
    "\n",
    "Posługując się poniższym kodem (należy uzupełnić brakujące fragmenty kodu):\n",
    "\n",
    "* Uzupełnij funckje pomocnicze do generowania widma:"
   ]
  },
  {
   "cell_type": "code",
   "execution_count": 15,
   "metadata": {
    "collapsed": true,
    "deletable": true,
    "editable": true
   },
   "outputs": [],
   "source": [
    "def widmo_dB(s, N_fft, F_samp):\n",
    "    '''\n",
    "    funkcja pomocnicza do obliczania widma amplitudowego w skali decybelowej\n",
    "    '''\n",
    "    S = fft.rfft(s,N_fft)\n",
    "    S_dB = 20 * np.log10(abs(S))\n",
    "    F = fft.rfftfreq(N_fft, 1/F_samp)\n",
    "    return (S_dB,F)\n",
    "    "
   ]
  },
  {
   "cell_type": "code",
   "execution_count": 20,
   "metadata": {
    "collapsed": false,
    "deletable": true,
    "editable": true
   },
   "outputs": [],
   "source": [
    "def rysuj_wlasnosci_okienka(s, okno, N_fft, F_samp, tytul):\n",
    "    '''\n",
    "    funkcja implementująca polecenia z zadania\n",
    "    '''\n",
    "    okno = okno / np.linalg.norm(okno) # znormalizuj okienko\n",
    "    s_okienkowany = s * okno # okienkujemy sygnał\n",
    "    \n",
    "    plt.figure()\n",
    "    plt.subplot(2,2,1)\n",
    "    plt.plot(t,okno)\n",
    "    plt.title(tytul)\n",
    "\n",
    "    plt.subplot(2,2,2)    \n",
    "    S_okienka_zera, skalaF_zera = widmo_dB(np.concatenate((okno, (1024-len(okno))*np.array([0]))), 1024, F_samp) # oblicz widmo okienka z dopełnieniem zerami do 1024 \n",
    "    plt.plot(skalaF_zera,S_okienka_zera)\n",
    "\n",
    "    S_okienka, skalaF = widmo_dB(okno, N_fft, F_samp) # oblicz widmo okienka dla oryginalnej jego długości\n",
    "    plt.plot(skalaF,S_okienka,'r.-')\n",
    "    plt.title('widmo okienka')\n",
    "    plt.ylim((-90,25))  \n",
    "    \n",
    "    plt.subplot(2,2,3)\n",
    "    plt.plot(t,s_okienkowany)\n",
    "    plt.title('sygnał okienkowany')\n",
    "    \n",
    "    plt.subplot(2,2,4)\n",
    "    S_okienkowany_zera, skalaF_zera = widmo_dB(np.concatenate((s_okienkowany, (1024-len(s_okienkowany))*np.array([0]))), 1024, F_samp) # oblicz widmo sygnału okienkowanego z dopełnieniem zerami do 1024 \n",
    "    S_okienkowany, skalaF =  widmo_dB(s_okienkowany, N_fft, F_samp) # oblicz widmo sygnału okienkowanego dla oryginalnej jego długości\n",
    "    plt.plot(skalaF_zera,S_okienkowany_zera)\n",
    "    plt.plot(skalaF,S_okienkowany,'r.-')\n",
    "    #plt.plot([f,f],[-90,25],'r')\n",
    "    plt.ylim((-90,25))\n",
    "    plt.title('widmo sygnału okienkowanego')"
   ]
  },
  {
   "cell_type": "markdown",
   "metadata": {
    "deletable": true,
    "editable": true
   },
   "source": [
    "Wygeneruj sinusoidę o częstości $f=10.2$ Hz fazie 0, czasie trwania $T=1$ s, i częstości próbkowania $Fs=100$ Hz"
   ]
  },
  {
   "cell_type": "code",
   "execution_count": 10,
   "metadata": {
    "collapsed": true,
    "deletable": true,
    "editable": true
   },
   "outputs": [],
   "source": [
    "T = 1\n",
    "Fs = 100\n",
    "t = np.arange(0,T,1/Fs)\n",
    "s = np.sin(10.2*2*np.pi*t)"
   ]
  },
  {
   "cell_type": "code",
   "execution_count": 12,
   "metadata": {
    "collapsed": false
   },
   "outputs": [
    {
     "ename": "ValueError",
     "evalue": "operands could not be broadcast together with shapes (3,) (2,) ",
     "output_type": "error",
     "traceback": [
      "\u001b[0;31m---------------------------------------------------------------------------\u001b[0m",
      "\u001b[0;31mValueError\u001b[0m                                Traceback (most recent call last)",
      "\u001b[0;32m<ipython-input-12-eb0138626955>\u001b[0m in \u001b[0;36m<module>\u001b[0;34m()\u001b[0m\n\u001b[0;32m----> 1\u001b[0;31m \u001b[0mnp\u001b[0m\u001b[0;34m.\u001b[0m\u001b[0marray\u001b[0m\u001b[0;34m(\u001b[0m\u001b[0;34m[\u001b[0m\u001b[0;36m0\u001b[0m\u001b[0;34m,\u001b[0m\u001b[0;36m0\u001b[0m\u001b[0;34m,\u001b[0m\u001b[0;36m0\u001b[0m\u001b[0;34m]\u001b[0m\u001b[0;34m)\u001b[0m \u001b[0;34m+\u001b[0m \u001b[0mnp\u001b[0m\u001b[0;34m.\u001b[0m\u001b[0marray\u001b[0m\u001b[0;34m(\u001b[0m\u001b[0;34m[\u001b[0m\u001b[0;36m1\u001b[0m\u001b[0;34m,\u001b[0m\u001b[0;36m2\u001b[0m\u001b[0;34m]\u001b[0m\u001b[0;34m)\u001b[0m\u001b[0;34m\u001b[0m\u001b[0m\n\u001b[0m",
      "\u001b[0;31mValueError\u001b[0m: operands could not be broadcast together with shapes (3,) (2,) "
     ]
    }
   ],
   "source": []
  },
  {
   "cell_type": "markdown",
   "metadata": {
    "deletable": true,
    "editable": true
   },
   "source": [
    "Wygeneruj okno prostokątne o długości równej długości sinusoidy, a następnie wyrysuj własności okienka przy pomocy funkcji `rysuj_wlasnosci_okienka`"
   ]
  },
  {
   "cell_type": "code",
   "execution_count": 21,
   "metadata": {
    "collapsed": false,
    "deletable": true,
    "editable": true
   },
   "outputs": [
    {
     "name": "stderr",
     "output_type": "stream",
     "text": [
      "/home/pawel/.local/lib/python3.5/site-packages/ipykernel/__main__.py:6: RuntimeWarning: divide by zero encountered in log10\n"
     ]
    },
    {
     "ename": "NameError",
     "evalue": "name 'f' is not defined",
     "output_type": "error",
     "traceback": [
      "\u001b[0;31m---------------------------------------------------------------------------\u001b[0m",
      "\u001b[0;31mNameError\u001b[0m                                 Traceback (most recent call last)",
      "\u001b[0;32m<ipython-input-21-742a0541f034>\u001b[0m in \u001b[0;36m<module>\u001b[0;34m()\u001b[0m\n\u001b[0;32m----> 1\u001b[0;31m \u001b[0mrysuj_wlasnosci_okienka\u001b[0m\u001b[0;34m(\u001b[0m\u001b[0ms\u001b[0m\u001b[0;34m,\u001b[0m \u001b[0msignal\u001b[0m\u001b[0;34m.\u001b[0m\u001b[0mbartlett\u001b[0m\u001b[0;34m(\u001b[0m\u001b[0mlen\u001b[0m\u001b[0;34m(\u001b[0m\u001b[0ms\u001b[0m\u001b[0;34m)\u001b[0m\u001b[0;34m)\u001b[0m\u001b[0;34m,\u001b[0m \u001b[0mlen\u001b[0m\u001b[0;34m(\u001b[0m\u001b[0ms\u001b[0m\u001b[0;34m)\u001b[0m\u001b[0;34m,\u001b[0m \u001b[0mFs\u001b[0m\u001b[0;34m,\u001b[0m\u001b[0;34m'1'\u001b[0m\u001b[0;34m)\u001b[0m\u001b[0;34m\u001b[0m\u001b[0m\n\u001b[0m",
      "\u001b[0;32m<ipython-input-20-80efb70828de>\u001b[0m in \u001b[0;36mrysuj_wlasnosci_okienka\u001b[0;34m(s, okno, N_fft, F_samp, tytul)\u001b[0m\n\u001b[1;32m     29\u001b[0m     \u001b[0mplt\u001b[0m\u001b[0;34m.\u001b[0m\u001b[0mplot\u001b[0m\u001b[0;34m(\u001b[0m\u001b[0mskalaF_zera\u001b[0m\u001b[0;34m,\u001b[0m\u001b[0mS_okienkowany_zera\u001b[0m\u001b[0;34m)\u001b[0m\u001b[0;34m\u001b[0m\u001b[0m\n\u001b[1;32m     30\u001b[0m     \u001b[0mplt\u001b[0m\u001b[0;34m.\u001b[0m\u001b[0mplot\u001b[0m\u001b[0;34m(\u001b[0m\u001b[0mskalaF\u001b[0m\u001b[0;34m,\u001b[0m\u001b[0mS_okienkowany\u001b[0m\u001b[0;34m,\u001b[0m\u001b[0;34m'r.-'\u001b[0m\u001b[0;34m)\u001b[0m\u001b[0;34m\u001b[0m\u001b[0m\n\u001b[0;32m---> 31\u001b[0;31m     \u001b[0mplt\u001b[0m\u001b[0;34m.\u001b[0m\u001b[0mplot\u001b[0m\u001b[0;34m(\u001b[0m\u001b[0;34m[\u001b[0m\u001b[0mf\u001b[0m\u001b[0;34m,\u001b[0m\u001b[0mf\u001b[0m\u001b[0;34m]\u001b[0m\u001b[0;34m,\u001b[0m\u001b[0;34m[\u001b[0m\u001b[0;34m-\u001b[0m\u001b[0;36m90\u001b[0m\u001b[0;34m,\u001b[0m\u001b[0;36m25\u001b[0m\u001b[0;34m]\u001b[0m\u001b[0;34m,\u001b[0m\u001b[0;34m'r'\u001b[0m\u001b[0;34m)\u001b[0m\u001b[0;34m\u001b[0m\u001b[0m\n\u001b[0m\u001b[1;32m     32\u001b[0m     \u001b[0mplt\u001b[0m\u001b[0;34m.\u001b[0m\u001b[0mylim\u001b[0m\u001b[0;34m(\u001b[0m\u001b[0;34m(\u001b[0m\u001b[0;34m-\u001b[0m\u001b[0;36m90\u001b[0m\u001b[0;34m,\u001b[0m\u001b[0;36m25\u001b[0m\u001b[0;34m)\u001b[0m\u001b[0;34m)\u001b[0m\u001b[0;34m\u001b[0m\u001b[0m\n\u001b[1;32m     33\u001b[0m     \u001b[0mplt\u001b[0m\u001b[0;34m.\u001b[0m\u001b[0mtitle\u001b[0m\u001b[0;34m(\u001b[0m\u001b[0;34m'widmo sygnału okienkowanego'\u001b[0m\u001b[0;34m)\u001b[0m\u001b[0;34m\u001b[0m\u001b[0m\n",
      "\u001b[0;31mNameError\u001b[0m: name 'f' is not defined"
     ]
    },
    {
     "data": {
      "image/png": "[encoded data removed]",
      "text/plain": [
       "<matplotlib.figure.Figure at 0x7f57a74d3128>"
      ]
     },
     "metadata": {},
     "output_type": "display_data"
    }
   ],
   "source": [
    "rysuj_wlasnosci_okienka(s, signal.bartlett(len(s)), len(s), Fs,'1')"
   ]
  },
  {
   "cell_type": "markdown",
   "metadata": {
    "deletable": true,
    "editable": true
   },
   "source": [
    "Zokienkuj sygnał mnożąc sinusoidę przez unormowane okienko"
   ]
  },
  {
   "cell_type": "code",
   "execution_count": null,
   "metadata": {
    "collapsed": true,
    "deletable": true,
    "editable": true
   },
   "outputs": [],
   "source": []
  },
  {
   "cell_type": "markdown",
   "metadata": {
    "deletable": true,
    "editable": true
   },
   "source": [
    "* Wykreśl zokienkowany sygnał, widmo zokienkowanego sygnału, widmo okienka"
   ]
  },
  {
   "cell_type": "code",
   "execution_count": null,
   "metadata": {
    "collapsed": true,
    "deletable": true,
    "editable": true
   },
   "outputs": [],
   "source": []
  },
  {
   "cell_type": "markdown",
   "metadata": {
    "deletable": true,
    "editable": true
   },
   "source": [
    "* Powtórz powyższe kroki dla okienek Bartletta, Hanna, Hamminga i Blackmana. "
   ]
  },
  {
   "cell_type": "code",
   "execution_count": null,
   "metadata": {
    "collapsed": true,
    "deletable": true,
    "editable": true
   },
   "outputs": [],
   "source": []
  },
  {
   "cell_type": "markdown",
   "metadata": {
    "deletable": true,
    "editable": true
   },
   "source": [
    "### Zadanie: Stworzenie funkcji pomocniczej do obliczania widma w skali decybelowej\n",
    "Proszę dokończyć funkcje do obliczania widma w skali decybelowej"
   ]
  },
  {
   "cell_type": "code",
   "execution_count": null,
   "metadata": {
    "collapsed": true,
    "deletable": true,
    "editable": true
   },
   "outputs": [],
   "source": [
    "def widmo_dB(s, N_fft, F_samp):\n",
    "    '''\n",
    "    funkcja pomocnicza\n",
    "    '''\n",
    "    ...\n",
    "    ...\n",
    "    ...\n",
    "    return (S_dB,F)"
   ]
  },
  {
   "cell_type": "markdown",
   "metadata": {
    "deletable": true,
    "editable": true
   },
   "source": [
    "### Zadanie: Wpływ okienkowania na wykrywalność składowych o różnej amplitudzie\n",
    "Wygeneruj sygnał będący sumą dwóch sinusoid o fazie 0, czasie trwania $T=1$ s, i częstości próbkowania $Fs=100$ Hz. \n",
    "Jedna niech ma częstość $f=10.2$ Hz. Częstość drugiej, niech zmienia się  od 11,4 do 15,5 Hz w 9 krokach. "
   ]
  },
  {
   "cell_type": "code",
   "execution_count": null,
   "metadata": {
    "collapsed": true,
    "deletable": true,
    "editable": true
   },
   "outputs": [],
   "source": [
    "\n",
    "def testuj_rozdzielczosc(t, F_samp, okno, tytul ):\n",
    "    '''\n",
    "    prezentacja własności\n",
    "    '''\n",
    "    plt.figure()\n",
    "    f1 = 10.2\n",
    "    s1 = ... # sinusoida o częstości f1\n",
    "    okno = okno/np.linalg.norm(okno)\n",
    "    k = 1\n",
    "    for f2 in np.linspace(11.4,15.5,9):\n",
    "        s2 = ...# sinusioda o częstości s2\n",
    "        s = ... # suma sinusoid o częstościach f1 i f2\n",
    "        s_okienkowany = s* okno # tu okienkujemy sygnał s\n",
    "        plt.subplot(3,3,k)\n",
    "        plt.title(str(f2))\n",
    "        S_okienkowany, skalaF = widmo_dB(s_okienkowany,len(s), Fs)\n",
    "        plt.plot(skalaF,S_okienkowany)\n",
    "        # dorysowujemy pionowe linie w miejscach gdzie są częstości nasych sinusoid:\n",
    "        plt.plot([f1,f1],[-50,25],'r') \n",
    "        plt.plot([f2,f2],[-50,25],'r')\n",
    "        plt.ylim((-50,25))\n",
    "        k+=1\n",
    "    plt.show()\n",
    "    \n",
    "Fs = 100\n",
    "dt = 1/Fs\n",
    "T = 1\n",
    "t = np.arange(0,T,dt)\n",
    "\n",
    "M = len(t)\n",
    "okno = np.ones(M)\n",
    "testuj_rozdzielczosc(t,Fs, okno,'prostokąt')\n",
    "\n",
    "okno = ss.hanning(M)#\n",
    "testuj_rozdzielczosc(t,Fs, okno,'hanning')\n",
    "\n",
    "# przetestuj okno hamming\n",
    "okno = ...\n",
    "testuj_rozdzielczosc(t,Fs, okno,'hamming')\n",
    "# przetestuj okno blackmana:\n",
    "okno = ...\n",
    "testuj_rozdzielczosc(t,Fs, okno,'blackman')"
   ]
  },
  {
   "cell_type": "markdown",
   "metadata": {
    "deletable": true,
    "editable": true
   },
   "source": [
    "## Okienkować możemy też w częstości\n",
    "Koncepcyjnie najprostszym filtrem jest operacja przemnożenia widma sygnału przez okienko w dziedzinie częstości a następnie zastosowanie odwrotnej transformaty Fouriera. Co stanie się z sygnałem w dziedzinie czasu, a co w dziedzinie częstości, jeśli chcielibyśmy przefiltrować go pasmowo przy użyciu takiego filtra pasmowo przepustowego ?\n",
    "\n",
    "### Zadanie 4: Konstrukcja prostego filtru\n",
    "* Zróbmy oś częstości, zakładając że ma ona zakres od 0 do 128 Hz (włącznie) i odstęp między częstościami 1 Hz:"
   ]
  },
  {
   "cell_type": "code",
   "execution_count": null,
   "metadata": {
    "collapsed": true,
    "deletable": true,
    "editable": true
   },
   "outputs": [],
   "source": [
    "F = np.arange(0,129,1)"
   ]
  },
  {
   "cell_type": "markdown",
   "metadata": {
    "deletable": true,
    "editable": true
   },
   "source": [
    "* Zróbmy okno prostokątne w częstościach od 21 do 30:"
   ]
  },
  {
   "cell_type": "code",
   "execution_count": null,
   "metadata": {
    "collapsed": true,
    "deletable": true,
    "editable": true
   },
   "outputs": [],
   "source": [
    "S_prost= np.zeros(129,dtype = complex)\n",
    "S_prost[21:31]=1"
   ]
  },
  {
   "cell_type": "markdown",
   "metadata": {
    "deletable": true,
    "editable": true
   },
   "source": [
    "* Proszę wykreślić to okienko w dziedzinie częstości:"
   ]
  },
  {
   "cell_type": "code",
   "execution_count": null,
   "metadata": {
    "collapsed": true,
    "deletable": true,
    "editable": true
   },
   "outputs": [],
   "source": [
    "plt.stem(F, np.abs(S_prost))\n",
    "plt.show()"
   ]
  },
  {
   "cell_type": "markdown",
   "metadata": {
    "deletable": true,
    "editable": true
   },
   "source": [
    "* Następnie obliczyć odwrotną transformację Fouriera i wykreślić odpowiadający mu sygnał w dziedzinie czasu (korzystamy z funkcji `irfft`)."
   ]
  },
  {
   "cell_type": "code",
   "execution_count": null,
   "metadata": {
    "collapsed": true,
    "deletable": true,
    "editable": true
   },
   "outputs": [],
   "source": [
    "s_prost = ...\n",
    "t = ...\n",
    "plt.plot(t,s_prost)\n",
    "plt.show()"
   ]
  },
  {
   "cell_type": "markdown",
   "metadata": {
    "deletable": true,
    "editable": true
   },
   "source": [
    ">Zgodnie z twierdzeniem o splocie, jeśli w dziedzinie czasu pomnożymy transformatę Fouriera sygnału przez rozważane okno prostokątne to w dziedzinie czasu dostaniemy splot sygnału z tym co widać na powyższym rysunku, czyli z odwrotną transformatą okienka.\n",
    "\n",
    "Zobaczmy jakie to ma praktyczne konsekwencje. \n",
    "\n",
    "Zróbmy sygnał zerowy o długości 1 s próbkowany częstością 256 Hz. W chwili $t = 0.5$ s niech w tym sygnale będzie  delta kronekera (dodajemy 1 do stosownej próbki). Narysujmy ten sygnał:"
   ]
  },
  {
   "cell_type": "code",
   "execution_count": null,
   "metadata": {
    "collapsed": true,
    "deletable": true,
    "editable": true
   },
   "outputs": [],
   "source": [
    "syg = np.zeros(len(t))\n",
    "syg[t==0.5] =1\n",
    "plt.plot(t,syg)\n",
    "plt.show()"
   ]
  },
  {
   "cell_type": "markdown",
   "metadata": {
    "deletable": true,
    "editable": true
   },
   "source": [
    "Następnie obliczmy transformatę Fouriera tego sygnału (`rfft`):"
   ]
  },
  {
   "cell_type": "code",
   "execution_count": null,
   "metadata": {
    "collapsed": true,
    "deletable": true,
    "editable": true
   },
   "outputs": [],
   "source": [
    "S_syg = ..."
   ]
  },
  {
   "cell_type": "markdown",
   "metadata": {
    "deletable": true,
    "editable": true
   },
   "source": [
    "Pomnóżmy tą transformatę przez okno prostokątne `S_prost`:"
   ]
  },
  {
   "cell_type": "code",
   "execution_count": null,
   "metadata": {
    "collapsed": true,
    "deletable": true,
    "editable": true
   },
   "outputs": [],
   "source": [
    "oknowana = ..."
   ]
  },
  {
   "cell_type": "markdown",
   "metadata": {
    "deletable": true,
    "editable": true
   },
   "source": [
    "Obliczmy odwrotną transformatę Fouriera (`irfft` ) i narysujmy otrzymany sygnał w czasie: "
   ]
  },
  {
   "cell_type": "code",
   "execution_count": null,
   "metadata": {
    "collapsed": true,
    "deletable": true,
    "editable": true
   },
   "outputs": [],
   "source": [
    "odwrotna = ..."
   ]
  },
  {
   "cell_type": "code",
   "execution_count": null,
   "metadata": {
    "collapsed": true,
    "deletable": true,
    "editable": true
   },
   "outputs": [],
   "source": [
    "plt.plot(t,odwrotna,'b')\n",
    "plt.show()"
   ]
  },
  {
   "cell_type": "markdown",
   "metadata": {
    "deletable": true,
    "editable": true
   },
   "source": [
    "Jeśli o powyższej procedurze myślimy jako o filtrze, to powyższy sygnał jest odpowiedzią impulsową tego filtra. \n",
    "\n",
    "Zauważmy, że jest to splot syganłu (delty) z odwrotną transformatą okienka."
   ]
  },
  {
   "cell_type": "markdown",
   "metadata": {
    "deletable": true,
    "editable": true
   },
   "source": [
    "## Zadanie: Porównanie działania najprostszych filtrów fft na biały szum\n",
    "\n",
    "* Proszę wytworzyć sygnał będący białym szumem o długości 256 próbek.\n",
    "* Policz transformatę rzeczywistą tego sygnału.\n",
    "* Przygotuj dwa okna w dziedzinie częstości (w części dodatniej)  o długości 129: \n",
    " * okno prostokątne  z jedynkami w punktach 20:30\n",
    " * okno Gaussowskie <tt>np.exp(-((F-25.0)/5)**2)</tt>\n",
    "* Przemnóż widmo sygnału przez każde z okien i oblicz odwrotną transformatę Fouriera. \n",
    "* Zilustruj wyniki rysunkiem opisanym przez poniższą tabelkę:"
   ]
  },
  {
   "cell_type": "markdown",
   "metadata": {
    "deletable": true,
    "editable": true
   },
   "source": [
    "|okno prostokątne w częstości | okno Gaussowskie w częstości|\n",
    "|-----------------------------------------------------------|\n",
    "|odpowiedź impulsowa dla filtra z okna Prostokątnego |odpowiedź impulsowa dla filtra z okna Gaussowskiego|\n",
    "|przebieg czasowy szumu|przebieg czasowy szumu|\n",
    "|Przebieg czasowy odwrotnej tr. Fouriera iloczynu widma szumu i okna prostokątnego|Przebieg czasowy odwrotnej tr. Fouriera iloczynu widma szumu i okna Gaussowskiego|"
   ]
  },
  {
   "cell_type": "code",
   "execution_count": null,
   "metadata": {
    "collapsed": true,
    "deletable": true,
    "editable": true
   },
   "outputs": [],
   "source": [
    "...\n",
    "plt.show()"
   ]
  },
  {
   "cell_type": "markdown",
   "metadata": {
    "deletable": true,
    "editable": true
   },
   "source": [
    "# Co musimy z tego zapamiętać?\n",
    "* Jeśli nic nie zrobimy z sygnałem, to okienkujemy go okienkiem prostokątnym.\n",
    "* Okienkowanie w czasie odpowiada splotowi transformaty sygnału z transformatą okienka.\n",
    "* Okienka różnią się szerokością piku głównego i szybkością zanikania listków bocznych.\n",
    "* Obecność listków prowadzi do \"wycieku\" mocy z piku głównego.\n",
    "* Wolno zanikające listki boczne mogą utrudniać interpretację składu częstotliwościowego sygnału. "
   ]
  },
  {
   "cell_type": "code",
   "execution_count": null,
   "metadata": {
    "collapsed": true,
    "deletable": true,
    "editable": true
   },
   "outputs": [],
   "source": []
  }
 ],
 "metadata": {
  "anaconda-cloud": {},
  "kernelspec": {
   "display_name": "Python 3",
   "language": "python",
   "name": "python3"
  },
  "language_info": {
   "codemirror_mode": {
    "name": "ipython",
    "version": 3
   },
   "file_extension": ".py",
   "mimetype": "text/x-python",
   "name": "python",
   "nbconvert_exporter": "python",
   "pygments_lexer": "ipython3",
   "version": "3.5.2"
  }
 },
 "nbformat": 4,
 "nbformat_minor": 2
}
